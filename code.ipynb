{
 "cells": [
  {
   "cell_type": "code",
   "execution_count": 1,
   "id": "c417a5b7",
   "metadata": {
    "_cell_guid": "b1076dfc-b9ad-4769-8c92-a6c4dae69d19",
    "_uuid": "8f2839f25d086af736a60e9eeb907d3b93b6e0e5",
    "execution": {
     "iopub.execute_input": "2025-03-14T21:35:21.263426Z",
     "iopub.status.busy": "2025-03-14T21:35:21.262927Z",
     "iopub.status.idle": "2025-03-14T21:35:22.627785Z",
     "shell.execute_reply": "2025-03-14T21:35:22.626423Z"
    },
    "papermill": {
     "duration": 1.383658,
     "end_time": "2025-03-14T21:35:22.630544",
     "exception": false,
     "start_time": "2025-03-14T21:35:21.246886",
     "status": "completed"
    },
    "tags": []
   },
   "outputs": [],
   "source": [
    "import numpy as np \n",
    "import pandas as pd \n",
    "import os\n",
    "for dirname, _, filenames in os.walk('/kaggle/input'):\n",
    "    for filename in filenames:\n",
    "        print(os.path.join(dirname, filename))"
   ]
  },
  {
   "cell_type": "markdown",
   "id": "b6340978",
   "metadata": {
    "papermill": {
     "duration": 0.007387,
     "end_time": "2025-03-14T21:35:22.651982",
     "exception": false,
     "start_time": "2025-03-14T21:35:22.644595",
     "status": "completed"
    },
    "tags": []
   },
   "source": [
    "## Numerical Methods to Find Roots\n",
    "\n",
    "1. Bisection Method\n",
    "2. Regula Falsi Method\n",
    "3. Secant Method\n",
    "4. Newton Ramphson Method\n",
    "5. Brent's Method\n",
    "6. Halley's Method\n",
    "7. Muller's Method"
   ]
  },
  {
   "cell_type": "markdown",
   "id": "7f58e5a3",
   "metadata": {
    "papermill": {
     "duration": 0.007167,
     "end_time": "2025-03-14T21:35:22.667442",
     "exception": false,
     "start_time": "2025-03-14T21:35:22.660275",
     "status": "completed"
    },
    "tags": []
   },
   "source": [
    "### 1. Bisection Method"
   ]
  },
  {
   "cell_type": "code",
   "execution_count": 2,
   "id": "13d3b80f",
   "metadata": {
    "execution": {
     "iopub.execute_input": "2025-03-14T21:35:22.684454Z",
     "iopub.status.busy": "2025-03-14T21:35:22.683700Z",
     "iopub.status.idle": "2025-03-14T21:35:22.697252Z",
     "shell.execute_reply": "2025-03-14T21:35:22.695849Z"
    },
    "papermill": {
     "duration": 0.024331,
     "end_time": "2025-03-14T21:35:22.699257",
     "exception": false,
     "start_time": "2025-03-14T21:35:22.674926",
     "status": "completed"
    },
    "tags": []
   },
   "outputs": [],
   "source": [
    "def bisection_method(f, tol=1e-6, max_iter=100):\n",
    "    value_a = []\n",
    "    value_b = []\n",
    "    \n",
    "    for i in range(-10,11):\n",
    "        if f(i) < 0:\n",
    "            value_a.append(i)\n",
    "        elif f(i) > 0:\n",
    "            value_b.append(i)\n",
    "\n",
    "    if not value_a or not value_b:\n",
    "        raise ValueError(\"Couldn't find a valid interval where f(a) and f(b) have opposite signs.\")\n",
    "\n",
    "    b = min(value_b)  \n",
    "    a = max(value_a)\n",
    "\n",
    "    ini_a = a\n",
    "    ini_b = b\n",
    "\n",
    "    # print('value taken for a:',value_a)\n",
    "    # print('value taken for b:',value_b)\n",
    "    \n",
    "    if f(a) * f(b) >= 0:\n",
    "        raise ValueError('The values must be one negative and one positive')\n",
    "\n",
    "    iterations = []\n",
    "    values = []\n",
    "\n",
    "    for i in range(max_iter):\n",
    "        c = (a+b)/2.0\n",
    "        iterations.append(i)\n",
    "        values.append(c)\n",
    "\n",
    "        if abs(f(c)) < tol or (b-a)/2 < tol:\n",
    "            return c, iterations, values, ini_a, ini_b\n",
    "\n",
    "        if f(a) * f(c) < 0:\n",
    "            b = c\n",
    "        else:\n",
    "            a = c\n",
    "    return c, iterations, values, ini_a, ini_b"
   ]
  },
  {
   "cell_type": "code",
   "execution_count": 3,
   "id": "a2561c46",
   "metadata": {
    "execution": {
     "iopub.execute_input": "2025-03-14T21:35:22.717186Z",
     "iopub.status.busy": "2025-03-14T21:35:22.716653Z",
     "iopub.status.idle": "2025-03-14T21:35:22.721858Z",
     "shell.execute_reply": "2025-03-14T21:35:22.720414Z"
    },
    "papermill": {
     "duration": 0.01709,
     "end_time": "2025-03-14T21:35:22.724432",
     "exception": false,
     "start_time": "2025-03-14T21:35:22.707342",
     "status": "completed"
    },
    "tags": []
   },
   "outputs": [],
   "source": [
    "# f = f_numeric\n",
    "# bisection_root, bisection_iterations, bisection_values = bisection_method(f)\n",
    "# print(\"Root found:\", bisection_root)\n",
    "# print('Iterations:', len(bisection_iterations))"
   ]
  },
  {
   "cell_type": "code",
   "execution_count": 4,
   "id": "e45df2ee",
   "metadata": {
    "execution": {
     "iopub.execute_input": "2025-03-14T21:35:22.742329Z",
     "iopub.status.busy": "2025-03-14T21:35:22.741885Z",
     "iopub.status.idle": "2025-03-14T21:35:22.749038Z",
     "shell.execute_reply": "2025-03-14T21:35:22.747352Z"
    },
    "papermill": {
     "duration": 0.018015,
     "end_time": "2025-03-14T21:35:22.751388",
     "exception": false,
     "start_time": "2025-03-14T21:35:22.733373",
     "status": "completed"
    },
    "tags": []
   },
   "outputs": [],
   "source": [
    "import matplotlib.pyplot as plt\n",
    "\n",
    "def bisection_plot(f, ax):\n",
    "    bisection_root, bisection_iterations, bisection_values, initial_val_a, initial_val_b = bisection_method(f)\n",
    "    # print(\"Root found:\", bisection_root)\n",
    "    # print('Iterations:', len(bisection_iterations))\n",
    "    ax.plot(bisection_iterations, bisection_values, marker='o', linestyle='-', label=f'Root: {bisection_root:.6f}')\n",
    "    ax.set_xlabel(f'Iteration - Initial Values: {initial_val_a, initial_val_b}')\n",
    "    ax.set_ylabel('Approximate Root')\n",
    "    ax.set_title('Bisection Method Convergence')\n",
    "    ax.grid(True)\n",
    "    ax.legend(loc=\"upper right\", title=f\"Iterations: {len(bisection_iterations)}\")\n",
    "    # plt.show()\n",
    "    \n",
    "# bisection_plot(f_numeric)"
   ]
  },
  {
   "cell_type": "markdown",
   "id": "0726f3ec",
   "metadata": {
    "papermill": {
     "duration": 0.007269,
     "end_time": "2025-03-14T21:35:22.766404",
     "exception": false,
     "start_time": "2025-03-14T21:35:22.759135",
     "status": "completed"
    },
    "tags": []
   },
   "source": [
    "### 2. Regula Falsi Method"
   ]
  },
  {
   "cell_type": "code",
   "execution_count": 5,
   "id": "d39e1d5f",
   "metadata": {
    "execution": {
     "iopub.execute_input": "2025-03-14T21:35:22.782888Z",
     "iopub.status.busy": "2025-03-14T21:35:22.782543Z",
     "iopub.status.idle": "2025-03-14T21:35:22.791302Z",
     "shell.execute_reply": "2025-03-14T21:35:22.789804Z"
    },
    "papermill": {
     "duration": 0.019548,
     "end_time": "2025-03-14T21:35:22.793676",
     "exception": false,
     "start_time": "2025-03-14T21:35:22.774128",
     "status": "completed"
    },
    "tags": []
   },
   "outputs": [],
   "source": [
    "def regula_falsi_method(f,max_iter=100, tol=1e-6):\n",
    "\n",
    "    value_a = []\n",
    "    value_b = []\n",
    "    \n",
    "    for i in range(-10,11):\n",
    "        if f(i) < 0:\n",
    "            value_a.append(i)\n",
    "        elif f(i) > 0:\n",
    "            value_b.append(i)\n",
    "\n",
    "    if not value_a or not value_b:\n",
    "        raise ValueError(\"Couldn't find a valid interval where f(a) and f(b) have opposite signs.\")\n",
    "\n",
    "    b = min(value_b)  \n",
    "    a = max(value_a)\n",
    "\n",
    "    ini_a = a\n",
    "    ini_b = b\n",
    "    \n",
    "    # print('value taken for a:',value_a)\n",
    "    # print('value taken for b:',value_b)\n",
    "\n",
    "        \n",
    "    if f(a) * f(b) >= 0:\n",
    "        raise ValueError('The values must be one negative and one positive')\n",
    "    \n",
    "    iterations = []\n",
    "    values = []\n",
    "\n",
    "    for i in range(max_iter):\n",
    "        c = b - (f(b) * (b - a)) / (f(b) - f(a))\n",
    "        iterations.append(i)\n",
    "        values.append(c)\n",
    "        \n",
    "        if abs(f(c)) < tol or (b-a)/2 < tol:\n",
    "            return c, iterations, values, ini_a, ini_b\n",
    "\n",
    "        if f(a) * f(c) < 0:\n",
    "            b = c\n",
    "        else:\n",
    "            a = c\n",
    "    return c, iterations, values, ini_a, ini_b"
   ]
  },
  {
   "cell_type": "code",
   "execution_count": 6,
   "id": "c45f1648",
   "metadata": {
    "execution": {
     "iopub.execute_input": "2025-03-14T21:35:22.811725Z",
     "iopub.status.busy": "2025-03-14T21:35:22.811095Z",
     "iopub.status.idle": "2025-03-14T21:35:22.816312Z",
     "shell.execute_reply": "2025-03-14T21:35:22.814845Z"
    },
    "papermill": {
     "duration": 0.017426,
     "end_time": "2025-03-14T21:35:22.818826",
     "exception": false,
     "start_time": "2025-03-14T21:35:22.801400",
     "status": "completed"
    },
    "tags": []
   },
   "outputs": [],
   "source": [
    "# f = f_numeric\n",
    "# root, iterations, values = regula_falsi_method(f)\n",
    "# print(\"Root found:\", root)\n",
    "# print('Iterations:', len(iterations))"
   ]
  },
  {
   "cell_type": "code",
   "execution_count": 7,
   "id": "0f1b0496",
   "metadata": {
    "execution": {
     "iopub.execute_input": "2025-03-14T21:35:22.836752Z",
     "iopub.status.busy": "2025-03-14T21:35:22.836391Z",
     "iopub.status.idle": "2025-03-14T21:35:22.842723Z",
     "shell.execute_reply": "2025-03-14T21:35:22.841485Z"
    },
    "papermill": {
     "duration": 0.017934,
     "end_time": "2025-03-14T21:35:22.844743",
     "exception": false,
     "start_time": "2025-03-14T21:35:22.826809",
     "status": "completed"
    },
    "tags": []
   },
   "outputs": [],
   "source": [
    "def regula_falsi_plot(f, ax):\n",
    "    root, iterations, values, ini_a, ini_b = regula_falsi_method(f)\n",
    "    # print(\"Root found:\", root)\n",
    "    # print('Iterations:', len(iterations))\n",
    "    ax.plot(iterations, values, marker='o', linestyle='-', label=f'Root: {root:.6f}')\n",
    "    ax.set_xlabel(f'Iteration: Initial Value {ini_a, ini_b}')\n",
    "    ax.set_ylabel('Approximate Root')\n",
    "    ax.set_title('Regula Falsi Method Convergence')\n",
    "    ax.grid(True)\n",
    "    ax.legend(loc=\"upper right\", title=f\"Iterations: {len(iterations)}\")\n",
    "    # plt.show()\n",
    "# regula_falsi_plot(f_numeric)"
   ]
  },
  {
   "cell_type": "markdown",
   "id": "017fc3d5",
   "metadata": {
    "papermill": {
     "duration": 0.00725,
     "end_time": "2025-03-14T21:35:22.860182",
     "exception": false,
     "start_time": "2025-03-14T21:35:22.852932",
     "status": "completed"
    },
    "tags": []
   },
   "source": [
    "### 3. Secant Method\n",
    "\n",
    "Unlike Regula Falsi, the Secant Method does not require f(a) and f(b) to have opposite signs."
   ]
  },
  {
   "cell_type": "code",
   "execution_count": 8,
   "id": "51d3700c",
   "metadata": {
    "execution": {
     "iopub.execute_input": "2025-03-14T21:35:22.877646Z",
     "iopub.status.busy": "2025-03-14T21:35:22.877058Z",
     "iopub.status.idle": "2025-03-14T21:35:22.885741Z",
     "shell.execute_reply": "2025-03-14T21:35:22.884363Z"
    },
    "papermill": {
     "duration": 0.020384,
     "end_time": "2025-03-14T21:35:22.888561",
     "exception": false,
     "start_time": "2025-03-14T21:35:22.868177",
     "status": "completed"
    },
    "tags": []
   },
   "outputs": [],
   "source": [
    "import random\n",
    "\n",
    "def secant_method(f, max_iter=100, tol=1e-6):\n",
    "    iterations = []\n",
    "    values = []\n",
    "    \n",
    "    num_samples = 20\n",
    "    sample_range = (-10, 10) \n",
    "    sample_points = np.linspace(sample_range[0], sample_range[1], num_samples)\n",
    "    \n",
    "    sample_points = np.round(sample_points).astype(int) \n",
    "    sample_points = np.unique(sample_points) \n",
    "    \n",
    "    function_values = np.abs(f(sample_points))  \n",
    "    \n",
    "    best_indices = np.argsort(function_values)[:2]\n",
    "    a, b = sample_points[best_indices]\n",
    "\n",
    "    ini_a = a\n",
    "    ini_b = b\n",
    "    \n",
    "    for i in range(max_iter):\n",
    "        c = b - (f(b) * (b - a)) / (f(b) - f(a))\n",
    "        \n",
    "        if abs(f(b)) < tol:\n",
    "            return b, iterations, values, ini_a, ini_b  \n",
    "\n",
    "        iterations.append(i)\n",
    "        values.append(c)\n",
    "\n",
    "        if abs(c - b) < tol:\n",
    "            return c, iterations, values, ini_a, ini_b \n",
    "\n",
    "        a = b\n",
    "        b = c\n",
    "\n",
    "    return c, iterations, values, ini_a, ini_b  "
   ]
  },
  {
   "cell_type": "code",
   "execution_count": 9,
   "id": "9ca74357",
   "metadata": {
    "execution": {
     "iopub.execute_input": "2025-03-14T21:35:22.914656Z",
     "iopub.status.busy": "2025-03-14T21:35:22.914123Z",
     "iopub.status.idle": "2025-03-14T21:35:22.919301Z",
     "shell.execute_reply": "2025-03-14T21:35:22.917887Z"
    },
    "papermill": {
     "duration": 0.018005,
     "end_time": "2025-03-14T21:35:22.921942",
     "exception": false,
     "start_time": "2025-03-14T21:35:22.903937",
     "status": "completed"
    },
    "tags": []
   },
   "outputs": [],
   "source": [
    "# f = f_numeric\n",
    "# root, iterations, values = secant_method(f)\n",
    "# print(\"Root found:\", root)\n",
    "# print('Iterations:', len(iterations))\n",
    "# print('Values:', values)"
   ]
  },
  {
   "cell_type": "code",
   "execution_count": 10,
   "id": "3a7e7482",
   "metadata": {
    "execution": {
     "iopub.execute_input": "2025-03-14T21:35:22.939865Z",
     "iopub.status.busy": "2025-03-14T21:35:22.939379Z",
     "iopub.status.idle": "2025-03-14T21:35:22.947986Z",
     "shell.execute_reply": "2025-03-14T21:35:22.946151Z"
    },
    "papermill": {
     "duration": 0.020128,
     "end_time": "2025-03-14T21:35:22.950887",
     "exception": false,
     "start_time": "2025-03-14T21:35:22.930759",
     "status": "completed"
    },
    "tags": []
   },
   "outputs": [],
   "source": [
    "def sceant_plot(f, ax):\n",
    "    root, iterations, values, ini_a, ini_b = secant_method(f)\n",
    "    # print(\"Root found:\", root)\n",
    "    # print('Iterations:', len(iterations))\n",
    "    ax.plot(iterations, values, marker='o', linestyle='-', label=f'Root: {root:.6f}')\n",
    "    ax.set_xlabel(f'Iteration: Initial Value {ini_a, ini_b }')\n",
    "    ax.set_ylabel('Approximate Root')\n",
    "    ax.grid(True)\n",
    "    ax.set_title('Secant Method Convergence')\n",
    "    ax.legend(loc=\"upper right\", title=f\"Iterations: {len(iterations)}\")"
   ]
  },
  {
   "cell_type": "markdown",
   "id": "ab75db9f",
   "metadata": {
    "papermill": {
     "duration": 0.00733,
     "end_time": "2025-03-14T21:35:22.965842",
     "exception": false,
     "start_time": "2025-03-14T21:35:22.958512",
     "status": "completed"
    },
    "tags": []
   },
   "source": [
    "### 4. Newton Ramphson Method"
   ]
  },
  {
   "cell_type": "code",
   "execution_count": 11,
   "id": "388fc0d4",
   "metadata": {
    "execution": {
     "iopub.execute_input": "2025-03-14T21:35:22.982382Z",
     "iopub.status.busy": "2025-03-14T21:35:22.981931Z",
     "iopub.status.idle": "2025-03-14T21:35:26.434465Z",
     "shell.execute_reply": "2025-03-14T21:35:26.433276Z"
    },
    "papermill": {
     "duration": 3.463209,
     "end_time": "2025-03-14T21:35:26.436567",
     "exception": false,
     "start_time": "2025-03-14T21:35:22.973358",
     "status": "completed"
    },
    "tags": []
   },
   "outputs": [],
   "source": [
    "from sympy import symbols, diff, lambdify\n",
    "import random\n",
    "\n",
    "def newton_raphson_method(f, max_iter=100, tol=1e-6):\n",
    "    # differentiating the f(x)\n",
    "    x = symbols('x')  \n",
    "    f_prime = diff(f, x) \n",
    "    # Converting the symbolic functions to numerical functions\n",
    "    f = lambdify(x, f, \"numpy\")\n",
    "    df = lambdify(x, f_prime, \"numpy\")\n",
    "\n",
    "    best_x0 = None\n",
    "    best_f_value = float('inf')\n",
    "\n",
    "    for _ in range(10):\n",
    "        x0_candidate = random.randint(-5, 5)\n",
    "        while x0_candidate ==0: \n",
    "            x0_candidate = random.randint(-5, 5)\n",
    "        f_value = abs(f(x0_candidate))\n",
    "\n",
    "        if f_value < best_f_value:\n",
    "            best_f_value = f_value\n",
    "            best_x0 = x0_candidate\n",
    "\n",
    "    x0 = best_x0\n",
    "\n",
    "    iterations = []\n",
    "    values = []\n",
    "\n",
    "    for i in range(max_iter):\n",
    "        f_x0 = f(x0)\n",
    "        df_x0 = df(x0)\n",
    "\n",
    "        if abs(df_x0) < 1e-10:\n",
    "            raise ValueError(\"Derivative too close to zero, Newton-Raphson may not converge.\")\n",
    "\n",
    "        x_n = x0 - f_x0 / df_x0\n",
    "        iterations.append(i)\n",
    "        values.append(x_n)\n",
    "\n",
    "        if abs(x_n - x0) < tol: \n",
    "            return x_n, iterations, values, best_x0\n",
    "\n",
    "        x0 = x_n \n",
    "\n",
    "    return x0, iterations, values, best_x0"
   ]
  },
  {
   "cell_type": "code",
   "execution_count": 12,
   "id": "c574cb6e",
   "metadata": {
    "execution": {
     "iopub.execute_input": "2025-03-14T21:35:26.454591Z",
     "iopub.status.busy": "2025-03-14T21:35:26.453919Z",
     "iopub.status.idle": "2025-03-14T21:35:26.458604Z",
     "shell.execute_reply": "2025-03-14T21:35:26.457507Z"
    },
    "papermill": {
     "duration": 0.016541,
     "end_time": "2025-03-14T21:35:26.460748",
     "exception": false,
     "start_time": "2025-03-14T21:35:26.444207",
     "status": "completed"
    },
    "tags": []
   },
   "outputs": [],
   "source": [
    "# x = symbols('x')\n",
    "# f = user_function\n",
    "# root, iterations, values = newton_raphson_method(f)\n",
    "# print(f\"Root found: {root}\")\n",
    "# print(f\"Iterations taken: {len(iterations)}\")"
   ]
  },
  {
   "cell_type": "code",
   "execution_count": 13,
   "id": "d2f73e54",
   "metadata": {
    "execution": {
     "iopub.execute_input": "2025-03-14T21:35:26.477256Z",
     "iopub.status.busy": "2025-03-14T21:35:26.476871Z",
     "iopub.status.idle": "2025-03-14T21:35:26.482888Z",
     "shell.execute_reply": "2025-03-14T21:35:26.481618Z"
    },
    "papermill": {
     "duration": 0.016835,
     "end_time": "2025-03-14T21:35:26.485122",
     "exception": false,
     "start_time": "2025-03-14T21:35:26.468287",
     "status": "completed"
    },
    "tags": []
   },
   "outputs": [],
   "source": [
    "def newton_raphson_plot(f, ax):\n",
    "    newton_root, newton_iterations, newton_values, best_x0 = newton_raphson_method(f)\n",
    "    # print(f\"Root found: {newton_root}\")\n",
    "    # print(f\"Iterations taken: {len(newton_iterations)}\")\n",
    "    ax.plot(newton_iterations, newton_values, marker='o', linestyle='-', label=f'Root: {newton_root:.6f}')\n",
    "    ax.set_xlabel(f'Iteration: Initial Value {best_x0}')\n",
    "    ax.set_ylabel('Approximate Root')\n",
    "    ax.grid(True)\n",
    "    ax.set_title('Newton Ramphson Method Convergence')\n",
    "    ax.legend(loc=\"upper right\", title=f\"Iterations: {len(newton_iterations)}\")"
   ]
  },
  {
   "cell_type": "markdown",
   "id": "fb8a59b3",
   "metadata": {
    "papermill": {
     "duration": 0.006971,
     "end_time": "2025-03-14T21:35:26.499820",
     "exception": false,
     "start_time": "2025-03-14T21:35:26.492849",
     "status": "completed"
    },
    "tags": []
   },
   "source": [
    "### 5. Brent's Method"
   ]
  },
  {
   "cell_type": "markdown",
   "id": "d5f57a5d",
   "metadata": {
    "papermill": {
     "duration": 0.00775,
     "end_time": "2025-03-14T21:35:26.515456",
     "exception": false,
     "start_time": "2025-03-14T21:35:26.507706",
     "status": "completed"
    },
    "tags": []
   },
   "source": [
    "reference: https://en.wikipedia.org/wiki/Brent%27s_method#:~:text=If%20f(bk)%2C,)%20%2F%204%20and%20bk."
   ]
  },
  {
   "cell_type": "code",
   "execution_count": 14,
   "id": "8672008f",
   "metadata": {
    "execution": {
     "iopub.execute_input": "2025-03-14T21:35:26.533658Z",
     "iopub.status.busy": "2025-03-14T21:35:26.532920Z",
     "iopub.status.idle": "2025-03-14T21:35:26.547468Z",
     "shell.execute_reply": "2025-03-14T21:35:26.545400Z"
    },
    "papermill": {
     "duration": 0.02658,
     "end_time": "2025-03-14T21:35:26.550052",
     "exception": false,
     "start_time": "2025-03-14T21:35:26.523472",
     "status": "completed"
    },
    "tags": []
   },
   "outputs": [],
   "source": [
    "def brent_method(f, tol=1e-6, max_iter=100):\n",
    "    value_a = []\n",
    "    value_b = []\n",
    "    \n",
    "    for i in range(-10,11):\n",
    "        if f(i) < 0:\n",
    "            value_a.append(i)\n",
    "        elif f(i) > 0:\n",
    "            value_b.append(i)\n",
    "\n",
    "    if not value_a or not value_b:\n",
    "        raise ValueError(\"Couldn't find a valid interval where f(a) and f(b) have opposite signs.\")\n",
    "\n",
    "    b = min(value_b)  \n",
    "    a = max(value_a)\n",
    "\n",
    "    ini_a = a\n",
    "    ini_b = b\n",
    "    \n",
    "    # print('value taken for a:',value_a)\n",
    "    # print('value taken for b:',value_b)\n",
    "    \n",
    "    if f(a) * f(b) >= 0:\n",
    "        raise ValueError(\"The values must be one negative and one positive.\")\n",
    "\n",
    "    c, d = a, a  # Additional points for interpolation\n",
    "    fa, fb, fc = f(a), f(b), f(a)\n",
    "    s = b\n",
    "    mflag = True  # Tracking to use bisection or not\n",
    "\n",
    "    iterations = []\n",
    "    values = []\n",
    "    \n",
    "    for i in range(max_iter):\n",
    "        \n",
    "        # Using Inverse Quadratic Interpolation\n",
    "        if f(a) != f(c) and f(b) != f(c): \n",
    "            s = (a * f(b) * f(c)) / ((f(a) - f(b)) * (f(a) - f(c))) + \\\n",
    "                (b * f(a) * f(c)) / ((f(b) - f(a)) * (f(b) - f(c))) + \\\n",
    "                (c * f(a) * f(b)) / ((f(c) - f(a)) * (f(c) - f(b)))\n",
    "            s_name = 'Inverse'\n",
    "            \n",
    "        # Use Secant Method\n",
    "        else:\n",
    "            s = b - (f(b) * (b - a)) / (f(b) - f(a))\n",
    "            s_name = 'Secant'\n",
    "\n",
    "        cond1 = (s < (3 * a + b) / 4 or s > b)\n",
    "        cond2 = mflag and abs(s - b) >= abs(b - c) / 2\n",
    "        cond3 = not mflag and abs(s - b) >= abs(c - d) / 2\n",
    "        cond4 = mflag and abs(b - c) < tol\n",
    "        cond5 = not mflag and abs(c - d) < tol\n",
    "        \n",
    "        # Bisection\n",
    "        if cond1 or cond2 or cond3 or cond4 or cond5:\n",
    "            s = (a + b) / 2  \n",
    "            mflag = True\n",
    "            s_name = 'Bisection'\n",
    "        else:\n",
    "            mflag = False\n",
    "\n",
    "        values.append(s)\n",
    "        iterations.append(i)\n",
    "        # print(f'the methods used in step: {i} is {s_name}')\n",
    "        fs = f(s)\n",
    "        d, c = c, b\n",
    "        fc = fb\n",
    "        if f(a) * fs < 0:\n",
    "            b, fb = s, fs\n",
    "        else:\n",
    "            a, fa = s, fs\n",
    "\n",
    "        if abs(fa) < abs(fb):\n",
    "            a, b = b, a\n",
    "            fa, fb = fb, fa\n",
    "\n",
    "        if abs(fb) < tol:\n",
    "            return b, iterations, values, ini_a, ini_b  \n",
    "            \n",
    "    return b, iterations, values, ini_a, ini_b"
   ]
  },
  {
   "cell_type": "code",
   "execution_count": 15,
   "id": "194391fc",
   "metadata": {
    "execution": {
     "iopub.execute_input": "2025-03-14T21:35:26.566889Z",
     "iopub.status.busy": "2025-03-14T21:35:26.566471Z",
     "iopub.status.idle": "2025-03-14T21:35:26.571044Z",
     "shell.execute_reply": "2025-03-14T21:35:26.569644Z"
    },
    "papermill": {
     "duration": 0.015364,
     "end_time": "2025-03-14T21:35:26.572921",
     "exception": false,
     "start_time": "2025-03-14T21:35:26.557557",
     "status": "completed"
    },
    "tags": []
   },
   "outputs": [],
   "source": [
    "# f = f_numeric\n",
    "# root, iterations, values = brent_method(f)\n",
    "# print(f\"Root found: {root}\")\n",
    "# print(f'Values: ', values)\n",
    "# print(f'Iterations: {len(iterations)}')"
   ]
  },
  {
   "cell_type": "code",
   "execution_count": 16,
   "id": "dcdc8ad2",
   "metadata": {
    "execution": {
     "iopub.execute_input": "2025-03-14T21:35:26.589472Z",
     "iopub.status.busy": "2025-03-14T21:35:26.589094Z",
     "iopub.status.idle": "2025-03-14T21:35:26.595952Z",
     "shell.execute_reply": "2025-03-14T21:35:26.594505Z"
    },
    "papermill": {
     "duration": 0.017988,
     "end_time": "2025-03-14T21:35:26.598593",
     "exception": false,
     "start_time": "2025-03-14T21:35:26.580605",
     "status": "completed"
    },
    "tags": []
   },
   "outputs": [],
   "source": [
    "def brents_plot(f, ax):\n",
    "    root, iterations, values, ini_a, ini_b = brent_method(f)\n",
    "    # print(f\"Root found: {root}\")\n",
    "    # print(f'Iterations: {len(iterations)}')\n",
    "    ax.plot(iterations, values, marker='o', linestyle='-', label=f'Root: {root:.6f}')\n",
    "    ax.set_xlabel(f'Iteration: Initial Value {ini_a, ini_b}')\n",
    "    ax.set_ylabel('Approximate Root')\n",
    "    ax.grid(True)\n",
    "    ax.set_title('Brent Method Convergence')\n",
    "    ax.legend(loc=\"upper right\", title=f\"Iterations: {len(iterations)}\")"
   ]
  },
  {
   "cell_type": "markdown",
   "id": "8b00e32b",
   "metadata": {
    "papermill": {
     "duration": 0.008965,
     "end_time": "2025-03-14T21:35:26.615159",
     "exception": false,
     "start_time": "2025-03-14T21:35:26.606194",
     "status": "completed"
    },
    "tags": []
   },
   "source": [
    "### 6. Halley's Method\n",
    "\n",
    "Halley’s method is an extension of Newton-Raphson's method, using the second derivative to achieve cubic convergence (which is even faster than Newton’s quadratic convergence)."
   ]
  },
  {
   "cell_type": "code",
   "execution_count": 17,
   "id": "7183000b",
   "metadata": {
    "execution": {
     "iopub.execute_input": "2025-03-14T21:35:26.632121Z",
     "iopub.status.busy": "2025-03-14T21:35:26.631735Z",
     "iopub.status.idle": "2025-03-14T21:35:26.640427Z",
     "shell.execute_reply": "2025-03-14T21:35:26.639203Z"
    },
    "papermill": {
     "duration": 0.019138,
     "end_time": "2025-03-14T21:35:26.642322",
     "exception": false,
     "start_time": "2025-03-14T21:35:26.623184",
     "status": "completed"
    },
    "tags": []
   },
   "outputs": [],
   "source": [
    "def halley_method(f, tol=1e-6, max_iter=100):\n",
    "    x = symbols('x')\n",
    "    \n",
    "    f_prime = diff(f, x)   \n",
    "    f_double_prime = diff(f_prime, x)  \n",
    "\n",
    "    f_numeric = lambdify(x, f, 'numpy')\n",
    "    f_prime_numeric = lambdify(x, f_prime, 'numpy')\n",
    "    f_double_prime_numeric = lambdify(x, f_double_prime, 'numpy')\n",
    "\n",
    "    best_x0 = None\n",
    "    best_f_value = float('inf')\n",
    "    \n",
    "    for i in range(-10, 11): \n",
    "        f_val = abs(f_numeric(i))\n",
    "        if f_val < best_f_value:\n",
    "            best_f_value = f_val\n",
    "            best_x0 = i\n",
    "\n",
    "    x_n = best_x0 \n",
    "\n",
    "    iterations = []\n",
    "    values = []\n",
    "\n",
    "    for i in range(max_iter):\n",
    "        fx_n = f_numeric(x_n)\n",
    "        fpx_n = f_prime_numeric(x_n)\n",
    "        fppx_n = f_double_prime_numeric(x_n)\n",
    "\n",
    "        iterations.append(i)\n",
    "        values.append(x_n)\n",
    "\n",
    "        if abs(fx_n) < tol:\n",
    "            return x_n, iterations, values, best_x0 \n",
    "\n",
    "        denominator = 2 * fpx_n**2 - fx_n * fppx_n\n",
    "        if abs(denominator) < 1e-12: \n",
    "            raise ValueError(\"Halley's method failed: near zero second derivative.\")\n",
    "\n",
    "        x_next = x_n - (2 * fx_n * fpx_n) / denominator\n",
    "        \n",
    "        if abs(x_next - x_n) < tol:\n",
    "            return x_next, iterations, values, best_x0\n",
    "\n",
    "        x_n = x_next\n",
    "\n",
    "    return x_n, iterations, values, best_x0"
   ]
  },
  {
   "cell_type": "code",
   "execution_count": 18,
   "id": "8e6f99f7",
   "metadata": {
    "execution": {
     "iopub.execute_input": "2025-03-14T21:35:26.660472Z",
     "iopub.status.busy": "2025-03-14T21:35:26.660034Z",
     "iopub.status.idle": "2025-03-14T21:35:26.665265Z",
     "shell.execute_reply": "2025-03-14T21:35:26.663349Z"
    },
    "papermill": {
     "duration": 0.016776,
     "end_time": "2025-03-14T21:35:26.668190",
     "exception": false,
     "start_time": "2025-03-14T21:35:26.651414",
     "status": "completed"
    },
    "tags": []
   },
   "outputs": [],
   "source": [
    "# x = symbols('x')\n",
    "# f = user_function\n",
    "# root, iterations, values = halley_method(f)\n",
    "# print(f\"Root found: {root}\")\n",
    "# print(f'Iterations: {len(iterations)}')"
   ]
  },
  {
   "cell_type": "code",
   "execution_count": 19,
   "id": "bff1d5a7",
   "metadata": {
    "execution": {
     "iopub.execute_input": "2025-03-14T21:35:26.687480Z",
     "iopub.status.busy": "2025-03-14T21:35:26.687076Z",
     "iopub.status.idle": "2025-03-14T21:35:26.692977Z",
     "shell.execute_reply": "2025-03-14T21:35:26.691745Z"
    },
    "papermill": {
     "duration": 0.0175,
     "end_time": "2025-03-14T21:35:26.695237",
     "exception": false,
     "start_time": "2025-03-14T21:35:26.677737",
     "status": "completed"
    },
    "tags": []
   },
   "outputs": [],
   "source": [
    "def halleys_plot(f, ax):\n",
    "    root, iterations, values, best_x0 = halley_method(f)\n",
    "    # print(f\"Root found: {root}\")\n",
    "    # print(f'Iterations: {len(iterations)}')\n",
    "    ax.plot(iterations, values, marker='o', linestyle='-', label=f'Root: {root:.6f}')\n",
    "    ax.set_xlabel(f'Iteration: Initial Value {best_x0}')\n",
    "    ax.set_ylabel('Approximate Root')\n",
    "    ax.grid(True)\n",
    "    ax.set_title('Halleys Method Method Convergence')\n",
    "    ax.legend(loc=\"upper right\", title=f\"Iterations: {len(iterations)}\")"
   ]
  },
  {
   "cell_type": "markdown",
   "id": "6999be8a",
   "metadata": {
    "papermill": {
     "duration": 0.00698,
     "end_time": "2025-03-14T21:35:26.709750",
     "exception": false,
     "start_time": "2025-03-14T21:35:26.702770",
     "status": "completed"
    },
    "tags": []
   },
   "source": [
    "### 7. Müller’s Method"
   ]
  },
  {
   "cell_type": "code",
   "execution_count": 20,
   "id": "a97c9aeb",
   "metadata": {
    "execution": {
     "iopub.execute_input": "2025-03-14T21:35:26.726512Z",
     "iopub.status.busy": "2025-03-14T21:35:26.726137Z",
     "iopub.status.idle": "2025-03-14T21:35:26.736616Z",
     "shell.execute_reply": "2025-03-14T21:35:26.735161Z"
    },
    "papermill": {
     "duration": 0.0214,
     "end_time": "2025-03-14T21:35:26.738579",
     "exception": false,
     "start_time": "2025-03-14T21:35:26.717179",
     "status": "completed"
    },
    "tags": []
   },
   "outputs": [],
   "source": [
    "import numpy as np\n",
    "\n",
    "def muller(f, tol=1e-6, max_iter=100):\n",
    "    iterations = []\n",
    "    values = []\n",
    "    \n",
    "    num_samples = 20\n",
    "    sample_range = (-10, 10) \n",
    "    sample_points = np.linspace(sample_range[0], sample_range[1], num_samples)\n",
    "    \n",
    "    sample_points = np.round(sample_points).astype(int) \n",
    "    sample_points = np.unique(sample_points) \n",
    "    \n",
    "    function_values = np.abs(f(sample_points))  \n",
    "    \n",
    "    best_indices = np.argsort(function_values)[:3]\n",
    "    x0, x1, x2 = sample_points[best_indices]\n",
    "\n",
    "    ini_x0 = x0\n",
    "    ini_x1 = x1\n",
    "    ini_x2 = x2\n",
    "    \n",
    "    for i in range(max_iter):\n",
    "        h1 = x1 - x0\n",
    "        h2 = x2 - x1\n",
    "        del1 = (f(x1) - f(x0)) / h1\n",
    "        del2 = (f(x2) - f(x1)) / h2\n",
    "        a = (del2 - del1) / (h2 + h1)\n",
    "        b, c = a * h2 + del2, f(x2)\n",
    "        \n",
    "        if b**2 - 4*a*c >= 0:\n",
    "             D = np.sqrt(b**2 - 4*a*c)\n",
    "        else:\n",
    "            return \"Complex roots detected\", iterations, values, ini_x0, ini_x1, ini_x2\n",
    "\n",
    "        E = b + D if abs(b + D) > abs(b - D) else b - D\n",
    "        if E == 0:\n",
    "            return None, iterations, values, ini_x0, ini_x1, ini_x2 \n",
    "\n",
    "        x_new = x2 - (2 * c) / E \n",
    "\n",
    "        iterations.append(i)\n",
    "        values.append(x_new)\n",
    "\n",
    "        if abs(x2 - x_new) < tol:\n",
    "            return x_new, iterations, values, ini_x0, ini_x1, ini_x2 \n",
    "\n",
    "        x0, x1, x2 = x1, x2, x_new\n",
    "    \n",
    "    return x2, iterations, values, ini_x0, ini_x1, ini_x2"
   ]
  },
  {
   "cell_type": "code",
   "execution_count": 21,
   "id": "5856d2b9",
   "metadata": {
    "execution": {
     "iopub.execute_input": "2025-03-14T21:35:26.754864Z",
     "iopub.status.busy": "2025-03-14T21:35:26.754511Z",
     "iopub.status.idle": "2025-03-14T21:35:26.759199Z",
     "shell.execute_reply": "2025-03-14T21:35:26.757629Z"
    },
    "papermill": {
     "duration": 0.015107,
     "end_time": "2025-03-14T21:35:26.761269",
     "exception": false,
     "start_time": "2025-03-14T21:35:26.746162",
     "status": "completed"
    },
    "tags": []
   },
   "outputs": [],
   "source": [
    "# f = f_numeric\n",
    "# root, iterations, values = muller(f)\n",
    "# print(f'Iterations: {len(iterations)}')\n",
    "# print(f'Values: {values}')\n",
    "# print(f'Root found: {root}')"
   ]
  },
  {
   "cell_type": "code",
   "execution_count": 22,
   "id": "8a8822de",
   "metadata": {
    "execution": {
     "iopub.execute_input": "2025-03-14T21:35:26.777392Z",
     "iopub.status.busy": "2025-03-14T21:35:26.776950Z",
     "iopub.status.idle": "2025-03-14T21:35:26.782923Z",
     "shell.execute_reply": "2025-03-14T21:35:26.781582Z"
    },
    "papermill": {
     "duration": 0.016597,
     "end_time": "2025-03-14T21:35:26.785238",
     "exception": false,
     "start_time": "2025-03-14T21:35:26.768641",
     "status": "completed"
    },
    "tags": []
   },
   "outputs": [],
   "source": [
    "def mullers_plot(f, ax):\n",
    "    root, iterations, values, ini_x0, ini_x1, ini_x2  = muller(f)\n",
    "    # print(f'Iterations: {len(iterations)}')\n",
    "    # print(f'Root found: {root}')\n",
    "    ax.plot(iterations, values, marker='o', linestyle='-', label=f'Root: {root:.6f}')\n",
    "    ax.set_xlabel(f'Iteration: Initial Values {ini_x0, ini_x1, ini_x2}')\n",
    "    ax.set_ylabel('Approximate Root')\n",
    "    ax.grid(True)\n",
    "    ax.set_title('Muller Method Method Convergence')\n",
    "    ax.legend(loc=\"upper right\", title=f\"Iterations: {len(iterations)}\")"
   ]
  },
  {
   "cell_type": "markdown",
   "id": "0aed9a01",
   "metadata": {
    "papermill": {
     "duration": 0.007859,
     "end_time": "2025-03-14T21:35:26.801471",
     "exception": false,
     "start_time": "2025-03-14T21:35:26.793612",
     "status": "completed"
    },
    "tags": []
   },
   "source": [
    "### Interactive Dashboard"
   ]
  },
  {
   "cell_type": "code",
   "execution_count": 23,
   "id": "e879756f",
   "metadata": {
    "execution": {
     "iopub.execute_input": "2025-03-14T21:35:26.821334Z",
     "iopub.status.busy": "2025-03-14T21:35:26.820921Z",
     "iopub.status.idle": "2025-03-14T21:35:27.032728Z",
     "shell.execute_reply": "2025-03-14T21:35:27.031594Z"
    },
    "papermill": {
     "duration": 0.225275,
     "end_time": "2025-03-14T21:35:27.034803",
     "exception": false,
     "start_time": "2025-03-14T21:35:26.809528",
     "status": "completed"
    },
    "tags": []
   },
   "outputs": [],
   "source": [
    "import sympy as sp\n",
    "import ipywidgets as widgets\n",
    "from IPython.display import display\n",
    "\n",
    "x = sp.symbols('x')\n",
    "\n",
    "function_input = widgets.Text(\n",
    "    value=\"x**3 - 2*x - 5\", \n",
    "    description=\"f(x):\",\n",
    "    style={'description_width': 'initial'}\n",
    ")\n",
    "\n",
    "def process_function():\n",
    "    user_function = function_input.value  \n",
    "    try:\n",
    "        function = sp.sympify(user_function) \n",
    "        f_numeric = sp.lambdify(x, function, \"numpy\") \n",
    "\n",
    "        return function, user_function, f_numeric\n",
    "        \n",
    "    except Exception as e:\n",
    "        print(\"\\nInvalid function input. Please enter a valid mathematical expression.\")\n",
    "        \n",
    "function_input.observe(process_function, names='value')\n",
    "\n",
    "# display(function_input)"
   ]
  },
  {
   "cell_type": "code",
   "execution_count": 24,
   "id": "2daccfc2",
   "metadata": {
    "execution": {
     "iopub.execute_input": "2025-03-14T21:35:27.053086Z",
     "iopub.status.busy": "2025-03-14T21:35:27.052660Z",
     "iopub.status.idle": "2025-03-14T21:35:27.061438Z",
     "shell.execute_reply": "2025-03-14T21:35:27.059993Z"
    },
    "papermill": {
     "duration": 0.020445,
     "end_time": "2025-03-14T21:35:27.063813",
     "exception": false,
     "start_time": "2025-03-14T21:35:27.043368",
     "status": "completed"
    },
    "tags": []
   },
   "outputs": [],
   "source": [
    "def plot():\n",
    "    function, user_function, f_numeric = process_function()\n",
    "    \n",
    "    fig, axes = plt.subplots(3, 3, figsize=(12, 7))\n",
    "    fig.suptitle(f\"Root-Finding Methods for f(x) = {user_function}\", fontsize=16)\n",
    "\n",
    "    methods = {\n",
    "        \"Bisection\": (bisection_plot, f_numeric, axes[0, 0]),\n",
    "        \"Regula Falsi\": (regula_falsi_plot, f_numeric, axes[0, 1]),\n",
    "        \"Müller's\": (mullers_plot, f_numeric, axes[0, 2]),\n",
    "        \"Brent's\": (brents_plot, f_numeric, axes[1, 0]),\n",
    "        \"Halley's\": (halleys_plot, user_function, axes[1, 1]),  \n",
    "        \"Newton-Raphson\": (newton_raphson_plot, user_function, axes[1, 2]), \n",
    "        \"Secant\": (sceant_plot, f_numeric, axes[2, 0])\n",
    "    }\n",
    "\n",
    "    for method, (plot_func, func, ax) in methods.items():\n",
    "        try:\n",
    "            plot_func(func, ax) \n",
    "            ax.grid(True)\n",
    "        except Exception as e:\n",
    "            print(f\"❌ Error in {method}: {e}\")\n",
    "\n",
    "    for i in range(len(methods), 9):\n",
    "        fig.delaxes(axes.flat[i])\n",
    "\n",
    "    plt.tight_layout()\n",
    "    plt.show()"
   ]
  },
  {
   "cell_type": "code",
   "execution_count": 25,
   "id": "0af10cb7",
   "metadata": {
    "execution": {
     "iopub.execute_input": "2025-03-14T21:35:27.080323Z",
     "iopub.status.busy": "2025-03-14T21:35:27.079880Z",
     "iopub.status.idle": "2025-03-14T21:35:29.081456Z",
     "shell.execute_reply": "2025-03-14T21:35:29.079940Z"
    },
    "papermill": {
     "duration": 2.013569,
     "end_time": "2025-03-14T21:35:29.085205",
     "exception": false,
     "start_time": "2025-03-14T21:35:27.071636",
     "status": "completed"
    },
    "tags": []
   },
   "outputs": [
    {
     "data": {
      "application/vnd.jupyter.widget-view+json": {
       "model_id": "c4ae498c56554f45b9eb6779643c0ccf",
       "version_major": 2,
       "version_minor": 0
      },
      "text/plain": [
       "Text(value='x**3 - 2*x - 5', description='f(x):', style=TextStyle(description_width='initial'))"
      ]
     },
     "metadata": {},
     "output_type": "display_data"
    },
    {
     "name": "stdout",
     "output_type": "stream",
     "text": [
      "None\n"
     ]
    },
    {
     "data": {
      "image/png": "[encoded data removed]",
      "text/plain": [
       "<Figure size 1200x700 with 7 Axes>"
      ]
     },
     "metadata": {},
     "output_type": "display_data"
    }
   ],
   "source": [
    "print(display(function_input))\n",
    "plot()"
   ]
  }
 ],
 "metadata": {
  "kaggle": {
   "accelerator": "none",
   "dataSources": [],
   "dockerImageVersionId": 30918,
   "isGpuEnabled": false,
   "isInternetEnabled": true,
   "language": "python",
   "sourceType": "notebook"
  },
  "kernelspec": {
   "display_name": "Python 3",
   "language": "python",
   "name": "python3"
  },
  "language_info": {
   "codemirror_mode": {
    "name": "ipython",
    "version": 3
   },
   "file_extension": ".py",
   "mimetype": "text/x-python",
   "name": "python",
   "nbconvert_exporter": "python",
   "pygments_lexer": "ipython3",
   "version": "3.10.12"
  },
  "papermill": {
   "default_parameters": {},
   "duration": 11.963349,
   "end_time": "2025-03-14T21:35:29.819681",
   "environment_variables": {},
   "exception": null,
   "input_path": "__notebook__.ipynb",
   "output_path": "__notebook__.ipynb",
   "parameters": {},
   "start_time": "2025-03-14T21:35:17.856332",
   "version": "2.6.0"
  },
  "widgets": {
   "application/vnd.jupyter.widget-state+json": {
    "state": {
     "633ecfbb97d749b79269a49cbcc59a7c": {
      "model_module": "@jupyter-widgets/controls",
      "model_module_version": "2.0.0",
      "model_name": "TextStyleModel",
      "state": {
       "_model_module": "@jupyter-widgets/controls",
       "_model_module_version": "2.0.0",
       "_model_name": "TextStyleModel",
       "_view_count": null,
       "_view_module": "@jupyter-widgets/base",
       "_view_module_version": "2.0.0",
       "_view_name": "StyleView",
       "background": null,
       "description_width": "initial",
       "font_size": null,
       "text_color": null
      }
     },
     "98a19abf64274ec6af66ada177adca23": {
      "model_module": "@jupyter-widgets/base",
      "model_module_version": "2.0.0",
      "model_name": "LayoutModel",
      "state": {
       "_model_module": "@jupyter-widgets/base",
       "_model_module_version": "2.0.0",
       "_model_name": "LayoutModel",
       "_view_count": null,
       "_view_module": "@jupyter-widgets/base",
       "_view_module_version": "2.0.0",
       "_view_name": "LayoutView",
       "align_content": null,
       "align_items": null,
       "align_self": null,
       "border_bottom": null,
       "border_left": null,
       "border_right": null,
       "border_top": null,
       "bottom": null,
       "display": null,
       "flex": null,
       "flex_flow": null,
       "grid_area": null,
       "grid_auto_columns": null,
       "grid_auto_flow": null,
       "grid_auto_rows": null,
       "grid_column": null,
       "grid_gap": null,
       "grid_row": null,
       "grid_template_areas": null,
       "grid_template_columns": null,
       "grid_template_rows": null,
       "height": null,
       "justify_content": null,
       "justify_items": null,
       "left": null,
       "margin": null,
       "max_height": null,
       "max_width": null,
       "min_height": null,
       "min_width": null,
       "object_fit": null,
       "object_position": null,
       "order": null,
       "overflow": null,
       "padding": null,
       "right": null,
       "top": null,
       "visibility": null,
       "width": null
      }
     },
     "c4ae498c56554f45b9eb6779643c0ccf": {
      "model_module": "@jupyter-widgets/controls",
      "model_module_version": "2.0.0",
      "model_name": "TextModel",
      "state": {
       "_dom_classes": [],
       "_model_module": "@jupyter-widgets/controls",
       "_model_module_version": "2.0.0",
       "_model_name": "TextModel",
       "_view_count": null,
       "_view_module": "@jupyter-widgets/controls",
       "_view_module_version": "2.0.0",
       "_view_name": "TextView",
       "continuous_update": true,
       "description": "f(x):",
       "description_allow_html": false,
       "disabled": false,
       "layout": "IPY_MODEL_98a19abf64274ec6af66ada177adca23",
       "placeholder": "​",
       "style": "IPY_MODEL_633ecfbb97d749b79269a49cbcc59a7c",
       "tabbable": null,
       "tooltip": null,
       "value": "x**3 - 2*x - 5"
      }
     }
    },
    "version_major": 2,
    "version_minor": 0
   }
  }
 },
 "nbformat": 4,
 "nbformat_minor": 5
}
