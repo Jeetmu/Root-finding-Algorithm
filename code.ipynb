{
 "cells": [
  {
   "cell_type": "code",
   "execution_count": 1,
   "id": "830c52c5",
   "metadata": {
    "_cell_guid": "b1076dfc-b9ad-4769-8c92-a6c4dae69d19",
    "_uuid": "8f2839f25d086af736a60e9eeb907d3b93b6e0e5",
    "execution": {
     "iopub.execute_input": "2025-03-14T14:55:32.403860Z",
     "iopub.status.busy": "2025-03-14T14:55:32.403531Z",
     "iopub.status.idle": "2025-03-14T14:55:33.294629Z",
     "shell.execute_reply": "2025-03-14T14:55:33.293493Z"
    },
    "papermill": {
     "duration": 0.901791,
     "end_time": "2025-03-14T14:55:33.296627",
     "exception": false,
     "start_time": "2025-03-14T14:55:32.394836",
     "status": "completed"
    },
    "tags": []
   },
   "outputs": [],
   "source": [
    "import numpy as np \n",
    "import pandas as pd \n",
    "import os\n",
    "for dirname, _, filenames in os.walk('/kaggle/input'):\n",
    "    for filename in filenames:\n",
    "        print(os.path.join(dirname, filename))"
   ]
  },
  {
   "cell_type": "markdown",
   "id": "8ff65880",
   "metadata": {
    "papermill": {
     "duration": 0.006788,
     "end_time": "2025-03-14T14:55:33.311000",
     "exception": false,
     "start_time": "2025-03-14T14:55:33.304212",
     "status": "completed"
    },
    "tags": []
   },
   "source": [
    "## Numerical Methods to Find Roots\n",
    "\n",
    "1. Bisection Method\n",
    "2. Regula Falsi Method\n",
    "3. Secant Method\n",
    "4. Newton Ramphson Method\n",
    "5. Brent's Method\n",
    "6. Halley's Method\n",
    "7. Muller's Method"
   ]
  },
  {
   "cell_type": "markdown",
   "id": "e7e9e7e0",
   "metadata": {
    "papermill": {
     "duration": 0.006506,
     "end_time": "2025-03-14T14:55:33.324867",
     "exception": false,
     "start_time": "2025-03-14T14:55:33.318361",
     "status": "completed"
    },
    "tags": []
   },
   "source": [
    "### 1. Bisection Method"
   ]
  },
  {
   "cell_type": "code",
   "execution_count": 2,
   "id": "dd3730c7",
   "metadata": {
    "execution": {
     "iopub.execute_input": "2025-03-14T14:55:33.339953Z",
     "iopub.status.busy": "2025-03-14T14:55:33.339502Z",
     "iopub.status.idle": "2025-03-14T14:55:33.347409Z",
     "shell.execute_reply": "2025-03-14T14:55:33.346314Z"
    },
    "papermill": {
     "duration": 0.017121,
     "end_time": "2025-03-14T14:55:33.348883",
     "exception": false,
     "start_time": "2025-03-14T14:55:33.331762",
     "status": "completed"
    },
    "tags": []
   },
   "outputs": [],
   "source": [
    "def bisection_method(f, tol=1e-6, max_iter=100):\n",
    "    value_a = []\n",
    "    value_b = []\n",
    "    \n",
    "    for i in range(-10,11):\n",
    "        if f(i) < 0:\n",
    "            value_a.append(i)\n",
    "        elif f(i) > 0:\n",
    "            value_b.append(i)\n",
    "\n",
    "    if not value_a or not value_b:\n",
    "        raise ValueError(\"Couldn't find a valid interval where f(a) and f(b) have opposite signs.\")\n",
    "\n",
    "    b = min(value_b)  \n",
    "    a = max(value_a)\n",
    "    print(f\"Initial interval: a = {a}, b = {b}\")\n",
    "\n",
    "    # print('value taken for a:',value_a)\n",
    "    # print('value taken for b:',value_b)\n",
    "    \n",
    "    if f(a) * f(b) >= 0:\n",
    "        raise ValueError('The values must be one negative and one positive')\n",
    "\n",
    "    iterations = []\n",
    "    values = []\n",
    "\n",
    "    for i in range(max_iter):\n",
    "        c = (a+b)/2.0\n",
    "        iterations.append(i)\n",
    "        values.append(c)\n",
    "\n",
    "        if abs(f(c)) < tol or (b-a)/2 < tol:\n",
    "            return c, iterations, values\n",
    "\n",
    "        if f(a) * f(c) < 0:\n",
    "            b = c\n",
    "        else:\n",
    "            a = c\n",
    "    return c, iterations, values"
   ]
  },
  {
   "cell_type": "code",
   "execution_count": 3,
   "id": "18c6b8bb",
   "metadata": {
    "execution": {
     "iopub.execute_input": "2025-03-14T14:55:33.364220Z",
     "iopub.status.busy": "2025-03-14T14:55:33.363820Z",
     "iopub.status.idle": "2025-03-14T14:55:33.367733Z",
     "shell.execute_reply": "2025-03-14T14:55:33.366629Z"
    },
    "papermill": {
     "duration": 0.01323,
     "end_time": "2025-03-14T14:55:33.369265",
     "exception": false,
     "start_time": "2025-03-14T14:55:33.356035",
     "status": "completed"
    },
    "tags": []
   },
   "outputs": [],
   "source": [
    "# f = f_numeric\n",
    "# bisection_root, bisection_iterations, bisection_values = bisection_method(f)\n",
    "# print(\"Root found:\", bisection_root)\n",
    "# print('Iterations:', len(bisection_iterations))"
   ]
  },
  {
   "cell_type": "code",
   "execution_count": 4,
   "id": "dfa7ff48",
   "metadata": {
    "execution": {
     "iopub.execute_input": "2025-03-14T14:55:33.385032Z",
     "iopub.status.busy": "2025-03-14T14:55:33.384680Z",
     "iopub.status.idle": "2025-03-14T14:55:33.389865Z",
     "shell.execute_reply": "2025-03-14T14:55:33.388936Z"
    },
    "papermill": {
     "duration": 0.014365,
     "end_time": "2025-03-14T14:55:33.391345",
     "exception": false,
     "start_time": "2025-03-14T14:55:33.376980",
     "status": "completed"
    },
    "tags": []
   },
   "outputs": [],
   "source": [
    "import matplotlib.pyplot as plt\n",
    "\n",
    "def bisection_plot(f):\n",
    "    bisection_root, bisection_iterations, bisection_values = bisection_method(f)\n",
    "    print(\"Root found:\", bisection_root)\n",
    "    print('Iterations:', len(bisection_iterations))\n",
    "    plt.plot(bisection_iterations, bisection_values, marker='o', linestyle='-')\n",
    "    plt.xlabel('Iteration')\n",
    "    plt.ylabel('Approximate Root')\n",
    "    plt.title('Bisection Method Convergence')\n",
    "    plt.grid()\n",
    "    plt.show()\n",
    "    \n",
    "# bisection_plot(f_numeric)"
   ]
  },
  {
   "cell_type": "markdown",
   "id": "04ad5ec5",
   "metadata": {
    "papermill": {
     "duration": 0.006455,
     "end_time": "2025-03-14T14:55:33.404923",
     "exception": false,
     "start_time": "2025-03-14T14:55:33.398468",
     "status": "completed"
    },
    "tags": []
   },
   "source": [
    "### 2. Regula Falsi Method"
   ]
  },
  {
   "cell_type": "code",
   "execution_count": 5,
   "id": "fab15145",
   "metadata": {
    "execution": {
     "iopub.execute_input": "2025-03-14T14:55:33.419498Z",
     "iopub.status.busy": "2025-03-14T14:55:33.419167Z",
     "iopub.status.idle": "2025-03-14T14:55:33.426429Z",
     "shell.execute_reply": "2025-03-14T14:55:33.425397Z"
    },
    "papermill": {
     "duration": 0.016367,
     "end_time": "2025-03-14T14:55:33.427990",
     "exception": false,
     "start_time": "2025-03-14T14:55:33.411623",
     "status": "completed"
    },
    "tags": []
   },
   "outputs": [],
   "source": [
    "def regula_falsi_method(f,max_iter=100, tol=1e-6):\n",
    "\n",
    "    value_a = []\n",
    "    value_b = []\n",
    "    \n",
    "    for i in range(-10,11):\n",
    "        if f(i) < 0:\n",
    "            value_a.append(i)\n",
    "        elif f(i) > 0:\n",
    "            value_b.append(i)\n",
    "\n",
    "    if not value_a or not value_b:\n",
    "        raise ValueError(\"Couldn't find a valid interval where f(a) and f(b) have opposite signs.\")\n",
    "\n",
    "    b = min(value_b)  \n",
    "    a = max(value_a)\n",
    "    \n",
    "    print(f\"Initial interval: a = {a}, b = {b}\")\n",
    "    # print('value taken for a:',value_a)\n",
    "    # print('value taken for b:',value_b)\n",
    "\n",
    "        \n",
    "    if f(a) * f(b) >= 0:\n",
    "        raise ValueError('The values must be one negative and one positive')\n",
    "    \n",
    "    iterations = []\n",
    "    values = []\n",
    "\n",
    "    for i in range(max_iter):\n",
    "        c = b - (f(b) * (b - a)) / (f(b) - f(a))\n",
    "        iterations.append(i)\n",
    "        values.append(c)\n",
    "        \n",
    "        if abs(f(c)) < tol or (b-a)/2 < tol:\n",
    "            return c, iterations, values\n",
    "\n",
    "        if f(a) * f(c) < 0:\n",
    "            b = c\n",
    "        else:\n",
    "            a = c\n",
    "    return c, iterations, values"
   ]
  },
  {
   "cell_type": "code",
   "execution_count": 6,
   "id": "a882459f",
   "metadata": {
    "execution": {
     "iopub.execute_input": "2025-03-14T14:55:33.442848Z",
     "iopub.status.busy": "2025-03-14T14:55:33.442452Z",
     "iopub.status.idle": "2025-03-14T14:55:33.445906Z",
     "shell.execute_reply": "2025-03-14T14:55:33.445139Z"
    },
    "papermill": {
     "duration": 0.012618,
     "end_time": "2025-03-14T14:55:33.447448",
     "exception": false,
     "start_time": "2025-03-14T14:55:33.434830",
     "status": "completed"
    },
    "tags": []
   },
   "outputs": [],
   "source": [
    "# f = f_numeric\n",
    "# root, iterations, values = regula_falsi_method(f)\n",
    "# print(\"Root found:\", root)\n",
    "# print('Iterations:', len(iterations))"
   ]
  },
  {
   "cell_type": "code",
   "execution_count": 7,
   "id": "995aa1fd",
   "metadata": {
    "execution": {
     "iopub.execute_input": "2025-03-14T14:55:33.462266Z",
     "iopub.status.busy": "2025-03-14T14:55:33.461909Z",
     "iopub.status.idle": "2025-03-14T14:55:33.466661Z",
     "shell.execute_reply": "2025-03-14T14:55:33.465713Z"
    },
    "papermill": {
     "duration": 0.013834,
     "end_time": "2025-03-14T14:55:33.468227",
     "exception": false,
     "start_time": "2025-03-14T14:55:33.454393",
     "status": "completed"
    },
    "tags": []
   },
   "outputs": [],
   "source": [
    "def regula_falsi_plot(f):\n",
    "    root, iterations, values = regula_falsi_method(f)\n",
    "    print(\"Root found:\", root)\n",
    "    print('Iterations:', len(iterations))\n",
    "    plt.plot(iterations, values, marker='o', linestyle='-')\n",
    "    plt.xlabel('Iteration')\n",
    "    plt.ylabel('Approximate Root')\n",
    "    plt.title('Regula Falsi Method Convergence')\n",
    "    plt.grid()\n",
    "    plt.show()\n",
    "# regula_falsi_plot(f_numeric)"
   ]
  },
  {
   "cell_type": "markdown",
   "id": "78adbfd6",
   "metadata": {
    "papermill": {
     "duration": 0.0064,
     "end_time": "2025-03-14T14:55:33.481949",
     "exception": false,
     "start_time": "2025-03-14T14:55:33.475549",
     "status": "completed"
    },
    "tags": []
   },
   "source": [
    "### 3. Secant Method\n",
    "\n",
    "Unlike Regula Falsi, the Secant Method does not require f(a) and f(b) to have opposite signs."
   ]
  },
  {
   "cell_type": "code",
   "execution_count": 8,
   "id": "75b14596",
   "metadata": {
    "execution": {
     "iopub.execute_input": "2025-03-14T14:55:33.496575Z",
     "iopub.status.busy": "2025-03-14T14:55:33.496212Z",
     "iopub.status.idle": "2025-03-14T14:55:33.503315Z",
     "shell.execute_reply": "2025-03-14T14:55:33.502475Z"
    },
    "papermill": {
     "duration": 0.016701,
     "end_time": "2025-03-14T14:55:33.505223",
     "exception": false,
     "start_time": "2025-03-14T14:55:33.488522",
     "status": "completed"
    },
    "tags": []
   },
   "outputs": [],
   "source": [
    "import random\n",
    "\n",
    "def secant_method(f, max_iter=100, tol=1e-6):\n",
    "    iterations = []\n",
    "    values = []\n",
    "    \n",
    "    num_samples = 20\n",
    "    sample_range = (-10, 10) \n",
    "    sample_points = np.linspace(sample_range[0], sample_range[1], num_samples)\n",
    "    \n",
    "    sample_points = np.round(sample_points).astype(int) \n",
    "    sample_points = np.unique(sample_points) \n",
    "    \n",
    "    function_values = np.abs(f(sample_points))  \n",
    "    \n",
    "    best_indices = np.argsort(function_values)[:2]\n",
    "    a, b = sample_points[best_indices]\n",
    "    \n",
    "    while a == b:  \n",
    "        b = random.randint(-10, 10)\n",
    "    print('a: ', a)\n",
    "    print('b: ', b)\n",
    "    \n",
    "    for i in range(max_iter):\n",
    "        c = b - (f(b) * (b - a)) / (f(b) - f(a))\n",
    "        \n",
    "        if abs(f(b)) < tol:\n",
    "            return b, iterations, values \n",
    "\n",
    "        iterations.append(i)\n",
    "        values.append(c)\n",
    "\n",
    "        if abs(c - b) < tol:\n",
    "            return c, iterations, values\n",
    "\n",
    "        a = b\n",
    "        b = c\n",
    "\n",
    "    return c, iterations, values  "
   ]
  },
  {
   "cell_type": "code",
   "execution_count": 9,
   "id": "7aca4466",
   "metadata": {
    "execution": {
     "iopub.execute_input": "2025-03-14T14:55:33.520753Z",
     "iopub.status.busy": "2025-03-14T14:55:33.520425Z",
     "iopub.status.idle": "2025-03-14T14:55:33.523957Z",
     "shell.execute_reply": "2025-03-14T14:55:33.523163Z"
    },
    "papermill": {
     "duration": 0.012522,
     "end_time": "2025-03-14T14:55:33.525464",
     "exception": false,
     "start_time": "2025-03-14T14:55:33.512942",
     "status": "completed"
    },
    "tags": []
   },
   "outputs": [],
   "source": [
    "# f = f_numeric\n",
    "# root, iterations, values = secant_method(f)\n",
    "# print(\"Root found:\", root)\n",
    "# print('Iterations:', len(iterations))"
   ]
  },
  {
   "cell_type": "code",
   "execution_count": 10,
   "id": "54aaad66",
   "metadata": {
    "execution": {
     "iopub.execute_input": "2025-03-14T14:55:33.540602Z",
     "iopub.status.busy": "2025-03-14T14:55:33.540246Z",
     "iopub.status.idle": "2025-03-14T14:55:33.545309Z",
     "shell.execute_reply": "2025-03-14T14:55:33.544351Z"
    },
    "papermill": {
     "duration": 0.014268,
     "end_time": "2025-03-14T14:55:33.546834",
     "exception": false,
     "start_time": "2025-03-14T14:55:33.532566",
     "status": "completed"
    },
    "tags": []
   },
   "outputs": [],
   "source": [
    "def sceant_plot(f):\n",
    "    root, iterations, values = secant_method(f)\n",
    "    print(\"Root found:\", root)\n",
    "    print('Iterations:', len(iterations))\n",
    "    plt.plot(iterations, values, marker='o', linestyle='-')\n",
    "    plt.xlabel('Iteration')\n",
    "    plt.ylabel('Approximate Root')\n",
    "    plt.title('Secant Method Convergence')\n",
    "    plt.grid()\n",
    "    plt.show()\n",
    "# sceant_plot(f_numeric)"
   ]
  },
  {
   "cell_type": "markdown",
   "id": "02b42d03",
   "metadata": {
    "papermill": {
     "duration": 0.006477,
     "end_time": "2025-03-14T14:55:33.560155",
     "exception": false,
     "start_time": "2025-03-14T14:55:33.553678",
     "status": "completed"
    },
    "tags": []
   },
   "source": [
    "### 4. Newton Ramphson Method"
   ]
  },
  {
   "cell_type": "code",
   "execution_count": 11,
   "id": "1b91c097",
   "metadata": {
    "execution": {
     "iopub.execute_input": "2025-03-14T14:55:33.574570Z",
     "iopub.status.busy": "2025-03-14T14:55:33.574228Z",
     "iopub.status.idle": "2025-03-14T14:55:36.143452Z",
     "shell.execute_reply": "2025-03-14T14:55:36.142582Z"
    },
    "papermill": {
     "duration": 2.578504,
     "end_time": "2025-03-14T14:55:36.145231",
     "exception": false,
     "start_time": "2025-03-14T14:55:33.566727",
     "status": "completed"
    },
    "tags": []
   },
   "outputs": [],
   "source": [
    "from sympy import symbols, diff, lambdify\n",
    "import random\n",
    "\n",
    "def newton_raphson_method(f, max_iter=100, tol=1e-6):\n",
    "    # differentiating the f(x)\n",
    "    x = symbols('x')  \n",
    "    f_prime = diff(f, x) \n",
    "    # Converting the symbolic functions to numerical functions\n",
    "    f = lambdify(x, f, \"numpy\")\n",
    "    df = lambdify(x, f_prime, \"numpy\")\n",
    "\n",
    "    best_x0 = None\n",
    "    best_f_value = float('inf')\n",
    "\n",
    "    for _ in range(10):\n",
    "        x0_candidate = random.randint(-5, 5)\n",
    "        while x0_candidate ==0: \n",
    "            x0_candidate = random.randint(-5, 5)\n",
    "        f_value = abs(f(x0_candidate))\n",
    "\n",
    "        if f_value < best_f_value:\n",
    "            best_f_value = f_value\n",
    "            best_x0 = x0_candidate\n",
    "\n",
    "    x0 = best_x0\n",
    "    print(f\"Best initial x0: {x0}\")\n",
    "\n",
    "    iterations = []\n",
    "    values = []\n",
    "\n",
    "    for i in range(max_iter):\n",
    "        f_x0 = f(x0)\n",
    "        df_x0 = df(x0)\n",
    "\n",
    "        if abs(df_x0) < 1e-10:\n",
    "            raise ValueError(\"Derivative too close to zero, Newton-Raphson may not converge.\")\n",
    "\n",
    "        x_n = x0 - f_x0 / df_x0\n",
    "        iterations.append(i)\n",
    "        values.append(x_n)\n",
    "\n",
    "        if abs(x_n - x0) < tol: \n",
    "            return x_n, iterations, values\n",
    "\n",
    "        x0 = x_n \n",
    "\n",
    "    return x0, iterations, values "
   ]
  },
  {
   "cell_type": "code",
   "execution_count": 12,
   "id": "5ff6b386",
   "metadata": {
    "execution": {
     "iopub.execute_input": "2025-03-14T14:55:36.162190Z",
     "iopub.status.busy": "2025-03-14T14:55:36.161676Z",
     "iopub.status.idle": "2025-03-14T14:55:36.165673Z",
     "shell.execute_reply": "2025-03-14T14:55:36.164627Z"
    },
    "papermill": {
     "duration": 0.013307,
     "end_time": "2025-03-14T14:55:36.167157",
     "exception": false,
     "start_time": "2025-03-14T14:55:36.153850",
     "status": "completed"
    },
    "tags": []
   },
   "outputs": [],
   "source": [
    "# x = symbols('x')\n",
    "# f = user_function\n",
    "# root, iterations, values = newton_raphson_method(f)\n",
    "# print(f\"Root found: {root}\")\n",
    "# print(f\"Iterations taken: {len(iterations)}\")"
   ]
  },
  {
   "cell_type": "code",
   "execution_count": 13,
   "id": "ea6228d9",
   "metadata": {
    "execution": {
     "iopub.execute_input": "2025-03-14T14:55:36.181770Z",
     "iopub.status.busy": "2025-03-14T14:55:36.181441Z",
     "iopub.status.idle": "2025-03-14T14:55:36.186583Z",
     "shell.execute_reply": "2025-03-14T14:55:36.185497Z"
    },
    "papermill": {
     "duration": 0.014406,
     "end_time": "2025-03-14T14:55:36.188304",
     "exception": false,
     "start_time": "2025-03-14T14:55:36.173898",
     "status": "completed"
    },
    "tags": []
   },
   "outputs": [],
   "source": [
    "def newton_raphson_plot(f):\n",
    "    newton_root, newton_iterations, newton_values = newton_raphson_method(f)\n",
    "    print(f\"Root found: {newton_root}\")\n",
    "    print(f\"Iterations taken: {len(newton_iterations)}\")\n",
    "    plt.plot(newton_iterations, newton_values, marker='o', linestyle='-')\n",
    "    plt.xlabel('Iteration')\n",
    "    plt.ylabel('Approximate Root')\n",
    "    plt.title('Newton Ramphson Method Convergence')\n",
    "    plt.grid()\n",
    "    plt.show()\n",
    "    \n",
    "# newton_raphson_plot(user_function)"
   ]
  },
  {
   "cell_type": "markdown",
   "id": "a59628dd",
   "metadata": {
    "papermill": {
     "duration": 0.006515,
     "end_time": "2025-03-14T14:55:36.201667",
     "exception": false,
     "start_time": "2025-03-14T14:55:36.195152",
     "status": "completed"
    },
    "tags": []
   },
   "source": [
    "### 5. Brent's Method"
   ]
  },
  {
   "cell_type": "markdown",
   "id": "7e0b5db0",
   "metadata": {
    "papermill": {
     "duration": 0.006333,
     "end_time": "2025-03-14T14:55:36.214717",
     "exception": false,
     "start_time": "2025-03-14T14:55:36.208384",
     "status": "completed"
    },
    "tags": []
   },
   "source": [
    "reference: https://en.wikipedia.org/wiki/Brent%27s_method#:~:text=If%20f(bk)%2C,)%20%2F%204%20and%20bk."
   ]
  },
  {
   "cell_type": "code",
   "execution_count": 14,
   "id": "c15c6216",
   "metadata": {
    "execution": {
     "iopub.execute_input": "2025-03-14T14:55:36.229520Z",
     "iopub.status.busy": "2025-03-14T14:55:36.229193Z",
     "iopub.status.idle": "2025-03-14T14:55:36.241433Z",
     "shell.execute_reply": "2025-03-14T14:55:36.240314Z"
    },
    "papermill": {
     "duration": 0.021829,
     "end_time": "2025-03-14T14:55:36.243235",
     "exception": false,
     "start_time": "2025-03-14T14:55:36.221406",
     "status": "completed"
    },
    "tags": []
   },
   "outputs": [],
   "source": [
    "def brent_method(f, tol=1e-6, max_iter=100):\n",
    "    value_a = []\n",
    "    value_b = []\n",
    "    \n",
    "    for i in range(-10,11):\n",
    "        if f(i) < 0:\n",
    "            value_a.append(i)\n",
    "        elif f(i) > 0:\n",
    "            value_b.append(i)\n",
    "\n",
    "    if not value_a or not value_b:\n",
    "        raise ValueError(\"Couldn't find a valid interval where f(a) and f(b) have opposite signs.\")\n",
    "\n",
    "    b = min(value_b)  \n",
    "    a = max(value_a)\n",
    "    \n",
    "    print(f\"Initial interval: a = {a}, b = {b}\")\n",
    "    # print('value taken for a:',value_a)\n",
    "    # print('value taken for b:',value_b)\n",
    "    \n",
    "    if f(a) * f(b) >= 0:\n",
    "        raise ValueError(\"The values must be one negative and one positive.\")\n",
    "\n",
    "    c, d = a, a  # Additional points for interpolation\n",
    "    fa, fb, fc = f(a), f(b), f(a)\n",
    "    s = b\n",
    "    mflag = True  # Tracking to use bisection or not\n",
    "\n",
    "    iterations = []\n",
    "    values = []\n",
    "    \n",
    "    for i in range(max_iter):\n",
    "        \n",
    "        # Using Inverse Quadratic Interpolation\n",
    "        if f(a) != f(c) and f(b) != f(c): \n",
    "            s = (a * f(b) * f(c)) / ((f(a) - f(b)) * (f(a) - f(c))) + \\\n",
    "                (b * f(a) * f(c)) / ((f(b) - f(a)) * (f(b) - f(c))) + \\\n",
    "                (c * f(a) * f(b)) / ((f(c) - f(a)) * (f(c) - f(b)))\n",
    "            s_name = 'Inverse'\n",
    "            \n",
    "        # Use Secant Method\n",
    "        else:\n",
    "            s = b - (f(b) * (b - a)) / (f(b) - f(a))\n",
    "            s_name = 'Secant'\n",
    "\n",
    "        cond1 = (s < (3 * a + b) / 4 or s > b)\n",
    "        cond2 = mflag and abs(s - b) >= abs(b - c) / 2\n",
    "        cond3 = not mflag and abs(s - b) >= abs(c - d) / 2\n",
    "        cond4 = mflag and abs(b - c) < tol\n",
    "        cond5 = not mflag and abs(c - d) < tol\n",
    "        \n",
    "        # Bisection\n",
    "        if cond1 or cond2 or cond3 or cond4 or cond5:\n",
    "            s = (a + b) / 2  \n",
    "            mflag = True\n",
    "            s_name = 'Bisection'\n",
    "        else:\n",
    "            mflag = False\n",
    "\n",
    "        values.append(s)\n",
    "        iterations.append(i)\n",
    "        # print(f'the methods used in step: {i} is {s_name}')\n",
    "        fs = f(s)\n",
    "        d, c = c, b\n",
    "        fc = fb\n",
    "        if f(a) * fs < 0:\n",
    "            b, fb = s, fs\n",
    "        else:\n",
    "            a, fa = s, fs\n",
    "\n",
    "        if abs(fa) < abs(fb):\n",
    "            a, b = b, a\n",
    "            fa, fb = fb, fa\n",
    "\n",
    "        if abs(fb) < tol:\n",
    "            return b, iterations, values  \n",
    "            \n",
    "    return b, iterations, values"
   ]
  },
  {
   "cell_type": "code",
   "execution_count": 15,
   "id": "c4a23aa0",
   "metadata": {
    "execution": {
     "iopub.execute_input": "2025-03-14T14:55:36.258629Z",
     "iopub.status.busy": "2025-03-14T14:55:36.258270Z",
     "iopub.status.idle": "2025-03-14T14:55:36.261954Z",
     "shell.execute_reply": "2025-03-14T14:55:36.261131Z"
    },
    "papermill": {
     "duration": 0.012619,
     "end_time": "2025-03-14T14:55:36.263332",
     "exception": false,
     "start_time": "2025-03-14T14:55:36.250713",
     "status": "completed"
    },
    "tags": []
   },
   "outputs": [],
   "source": [
    "# f = f_numeric\n",
    "# root, iterations, values = brent_method(f)\n",
    "# print(f\"Root found: {root}\")\n",
    "# print(f'Values: ', values)\n",
    "# print(f'Iterations: {len(iterations)}')"
   ]
  },
  {
   "cell_type": "code",
   "execution_count": 16,
   "id": "7dc6dc98",
   "metadata": {
    "execution": {
     "iopub.execute_input": "2025-03-14T14:55:36.278360Z",
     "iopub.status.busy": "2025-03-14T14:55:36.278021Z",
     "iopub.status.idle": "2025-03-14T14:55:36.282978Z",
     "shell.execute_reply": "2025-03-14T14:55:36.282156Z"
    },
    "papermill": {
     "duration": 0.014096,
     "end_time": "2025-03-14T14:55:36.284379",
     "exception": false,
     "start_time": "2025-03-14T14:55:36.270283",
     "status": "completed"
    },
    "tags": []
   },
   "outputs": [],
   "source": [
    "def brents_plot(f):\n",
    "    root, iterations, values = brent_method(f)\n",
    "    print(f\"Root found: {root}\")\n",
    "    print(f'Iterations: {len(iterations)}')\n",
    "    plt.plot(iterations, values, marker='o', linestyle='-')\n",
    "    plt.xlabel('Iteration')\n",
    "    plt.ylabel('Approximate Root')\n",
    "    plt.title('Brent Method Convergence')\n",
    "    plt.grid()\n",
    "    plt.show()\n",
    "# brents_plot(f_numeric)"
   ]
  },
  {
   "cell_type": "markdown",
   "id": "3f86f4bc",
   "metadata": {
    "papermill": {
     "duration": 0.006659,
     "end_time": "2025-03-14T14:55:36.298196",
     "exception": false,
     "start_time": "2025-03-14T14:55:36.291537",
     "status": "completed"
    },
    "tags": []
   },
   "source": [
    "### 6. Halley's Method\n",
    "\n",
    "Halley’s method is an extension of Newton-Raphson's method, using the second derivative to achieve cubic convergence (which is even faster than Newton’s quadratic convergence)."
   ]
  },
  {
   "cell_type": "code",
   "execution_count": 17,
   "id": "8dd46f5b",
   "metadata": {
    "execution": {
     "iopub.execute_input": "2025-03-14T14:55:36.313173Z",
     "iopub.status.busy": "2025-03-14T14:55:36.312769Z",
     "iopub.status.idle": "2025-03-14T14:55:36.320832Z",
     "shell.execute_reply": "2025-03-14T14:55:36.319980Z"
    },
    "papermill": {
     "duration": 0.017388,
     "end_time": "2025-03-14T14:55:36.322396",
     "exception": false,
     "start_time": "2025-03-14T14:55:36.305008",
     "status": "completed"
    },
    "tags": []
   },
   "outputs": [],
   "source": [
    "def halley_method(f, tol=1e-6, max_iter=100):\n",
    "    x = symbols('x')\n",
    "    \n",
    "    f_prime = diff(f, x)   \n",
    "    f_double_prime = diff(f_prime, x)  \n",
    "\n",
    "    f_numeric = lambdify(x, f, 'numpy')\n",
    "    f_prime_numeric = lambdify(x, f_prime, 'numpy')\n",
    "    f_double_prime_numeric = lambdify(x, f_double_prime, 'numpy')\n",
    "\n",
    "    best_x0 = None\n",
    "    best_f_value = float('inf')\n",
    "    \n",
    "    for i in range(-10, 11): \n",
    "        f_val = abs(f_numeric(i))\n",
    "        if f_val < best_f_value:\n",
    "            best_f_value = f_val\n",
    "            best_x0 = i\n",
    "\n",
    "    x_n = best_x0 \n",
    "    print(f\"Initial guess x0: {x_n}\")\n",
    "\n",
    "    iterations = []\n",
    "    values = []\n",
    "\n",
    "    for i in range(max_iter):\n",
    "        fx_n = f_numeric(x_n)\n",
    "        fpx_n = f_prime_numeric(x_n)\n",
    "        fppx_n = f_double_prime_numeric(x_n)\n",
    "\n",
    "        iterations.append(i)\n",
    "        values.append(x_n)\n",
    "\n",
    "        if abs(fx_n) < tol:\n",
    "            return x_n, iterations, values \n",
    "\n",
    "        denominator = 2 * fpx_n**2 - fx_n * fppx_n\n",
    "        if abs(denominator) < 1e-12: \n",
    "            raise ValueError(\"Halley's method failed: near zero second derivative.\")\n",
    "\n",
    "        x_next = x_n - (2 * fx_n * fpx_n) / denominator\n",
    "        \n",
    "        if abs(x_next - x_n) < tol:\n",
    "            return x_next, iterations, values\n",
    "\n",
    "        x_n = x_next\n",
    "\n",
    "    return x_n, iterations, values"
   ]
  },
  {
   "cell_type": "code",
   "execution_count": 18,
   "id": "cfe2c76f",
   "metadata": {
    "execution": {
     "iopub.execute_input": "2025-03-14T14:55:36.337605Z",
     "iopub.status.busy": "2025-03-14T14:55:36.337254Z",
     "iopub.status.idle": "2025-03-14T14:55:36.341234Z",
     "shell.execute_reply": "2025-03-14T14:55:36.340171Z"
    },
    "papermill": {
     "duration": 0.013445,
     "end_time": "2025-03-14T14:55:36.342926",
     "exception": false,
     "start_time": "2025-03-14T14:55:36.329481",
     "status": "completed"
    },
    "tags": []
   },
   "outputs": [],
   "source": [
    "# x = symbols('x')\n",
    "# f = user_function\n",
    "# root, iterations, values = halley_method(f)\n",
    "# print(f\"Root found: {root}\")\n",
    "# print(f'Iterations: {len(iterations)}')"
   ]
  },
  {
   "cell_type": "code",
   "execution_count": 19,
   "id": "79501ebe",
   "metadata": {
    "execution": {
     "iopub.execute_input": "2025-03-14T14:55:36.359415Z",
     "iopub.status.busy": "2025-03-14T14:55:36.358999Z",
     "iopub.status.idle": "2025-03-14T14:55:36.364189Z",
     "shell.execute_reply": "2025-03-14T14:55:36.363152Z"
    },
    "papermill": {
     "duration": 0.015387,
     "end_time": "2025-03-14T14:55:36.365770",
     "exception": false,
     "start_time": "2025-03-14T14:55:36.350383",
     "status": "completed"
    },
    "tags": []
   },
   "outputs": [],
   "source": [
    "def halleys_plot(f):\n",
    "    root, iterations, values = halley_method(f)\n",
    "    print(f\"Root found: {root}\")\n",
    "    print(f'Iterations: {len(iterations)}')\n",
    "    plt.plot(iterations, values, marker='o', linestyle='-')\n",
    "    plt.xlabel('Iteration')\n",
    "    plt.ylabel('Approximate Root')\n",
    "    plt.title('Halleys Method Method Convergence')\n",
    "    plt.grid()\n",
    "    plt.show()\n",
    "\n",
    "# halleys_plot(user_function)"
   ]
  },
  {
   "cell_type": "markdown",
   "id": "0b4a0253",
   "metadata": {
    "papermill": {
     "duration": 0.006604,
     "end_time": "2025-03-14T14:55:36.379323",
     "exception": false,
     "start_time": "2025-03-14T14:55:36.372719",
     "status": "completed"
    },
    "tags": []
   },
   "source": [
    "### 7. Müller’s Method"
   ]
  },
  {
   "cell_type": "code",
   "execution_count": 20,
   "id": "f3c79c09",
   "metadata": {
    "execution": {
     "iopub.execute_input": "2025-03-14T14:55:36.394453Z",
     "iopub.status.busy": "2025-03-14T14:55:36.394036Z",
     "iopub.status.idle": "2025-03-14T14:55:36.397673Z",
     "shell.execute_reply": "2025-03-14T14:55:36.396872Z"
    },
    "papermill": {
     "duration": 0.013003,
     "end_time": "2025-03-14T14:55:36.399243",
     "exception": false,
     "start_time": "2025-03-14T14:55:36.386240",
     "status": "completed"
    },
    "tags": []
   },
   "outputs": [],
   "source": [
    "# def mullers_method(f, max_iter=100, tol=1e-6):\n",
    "#     iterations = []\n",
    "#     values = []\n",
    "\n",
    "#     for i in range(max_iter):\n",
    "#         q = (xn - xn1) / (xn1 - xn2)\n",
    "#         a = (q * f(xn)) - (q * (1 + q) * f(xn1)) + ((q**2) * f(xn2))\n",
    "#         b = ((2 * q + 1) * f(xn)) - ((1 + q)**2 * f(xn1)) + (q**2 * f(xn2))\n",
    "#         c = ((1 + q) * f(xn))\n",
    "#         r = xn - (xn - xn1) * (2 * c)/max(b) \n",
    "        "
   ]
  },
  {
   "cell_type": "code",
   "execution_count": 21,
   "id": "c94f9c52",
   "metadata": {
    "execution": {
     "iopub.execute_input": "2025-03-14T14:55:36.414257Z",
     "iopub.status.busy": "2025-03-14T14:55:36.413877Z",
     "iopub.status.idle": "2025-03-14T14:55:36.423012Z",
     "shell.execute_reply": "2025-03-14T14:55:36.421979Z"
    },
    "papermill": {
     "duration": 0.018612,
     "end_time": "2025-03-14T14:55:36.424741",
     "exception": false,
     "start_time": "2025-03-14T14:55:36.406129",
     "status": "completed"
    },
    "tags": []
   },
   "outputs": [],
   "source": [
    "import numpy as np\n",
    "\n",
    "def muller(f, tol=1e-6, max_iter=100):\n",
    "    iterations = []\n",
    "    values = []\n",
    "    \n",
    "    num_samples = 20\n",
    "    sample_range = (-10, 10) \n",
    "    sample_points = np.linspace(sample_range[0], sample_range[1], num_samples)\n",
    "    \n",
    "    sample_points = np.round(sample_points).astype(int) \n",
    "    sample_points = np.unique(sample_points) \n",
    "    \n",
    "    function_values = np.abs(f(sample_points))  \n",
    "    \n",
    "    best_indices = np.argsort(function_values)[:3]\n",
    "    x0, x1, x2 = sample_points[best_indices]\n",
    "    \n",
    "    print(f'x0: {x0}')\n",
    "    print(f'x1: {x1}')\n",
    "    print(f'x2: {x2}')\n",
    "    \n",
    "    for i in range(max_iter):\n",
    "        h1 = x1 - x0\n",
    "        h2 = x2 - x1\n",
    "        del1 = (f(x1) - f(x0)) / h1\n",
    "        del2 = (f(x2) - f(x1)) / h2\n",
    "        a = (del2 - del1) / (h2 + h1)\n",
    "        b, c = a * h2 + del2, f(x2)\n",
    "        \n",
    "        if b**2 - 4*a*c >= 0:\n",
    "             D = np.sqrt(b**2 - 4*a*c)\n",
    "        else:\n",
    "            return \"Complex roots detected\", iterations, values\n",
    "\n",
    "        E = b + D if abs(b + D) > abs(b - D) else b - D\n",
    "        if E == 0:\n",
    "            return None, iterations, values \n",
    "\n",
    "        x_new = x2 - (2 * c) / E \n",
    "\n",
    "        iterations.append(i)\n",
    "        values.append(x_new)\n",
    "\n",
    "        if abs(x2 - x_new) < tol:\n",
    "            return x_new, iterations, values \n",
    "\n",
    "        x0, x1, x2 = x1, x2, x_new\n",
    "    \n",
    "    return x2, iterations, values "
   ]
  },
  {
   "cell_type": "code",
   "execution_count": 22,
   "id": "5c2b8465",
   "metadata": {
    "execution": {
     "iopub.execute_input": "2025-03-14T14:55:36.439949Z",
     "iopub.status.busy": "2025-03-14T14:55:36.439590Z",
     "iopub.status.idle": "2025-03-14T14:55:36.443508Z",
     "shell.execute_reply": "2025-03-14T14:55:36.442343Z"
    },
    "papermill": {
     "duration": 0.013424,
     "end_time": "2025-03-14T14:55:36.445166",
     "exception": false,
     "start_time": "2025-03-14T14:55:36.431742",
     "status": "completed"
    },
    "tags": []
   },
   "outputs": [],
   "source": [
    "# f = f_numeric\n",
    "# root, iterations, values = muller(f)\n",
    "# print(f'Iterations: {len(iterations)}')\n",
    "# print(f'Values: {values}')\n",
    "# print(f'Root found: {root}')"
   ]
  },
  {
   "cell_type": "code",
   "execution_count": 23,
   "id": "1fa1ebd4",
   "metadata": {
    "execution": {
     "iopub.execute_input": "2025-03-14T14:55:36.460329Z",
     "iopub.status.busy": "2025-03-14T14:55:36.459944Z",
     "iopub.status.idle": "2025-03-14T14:55:36.465763Z",
     "shell.execute_reply": "2025-03-14T14:55:36.464651Z"
    },
    "papermill": {
     "duration": 0.015544,
     "end_time": "2025-03-14T14:55:36.467897",
     "exception": false,
     "start_time": "2025-03-14T14:55:36.452353",
     "status": "completed"
    },
    "tags": []
   },
   "outputs": [],
   "source": [
    "def mullers_plot(f):\n",
    "    root, iterations, values = muller(f)\n",
    "    print(f'Iterations: {len(iterations)}')\n",
    "    print(f'Root found: {root}')\n",
    "    plt.plot(iterations, values, marker='o', linestyle='-')\n",
    "    plt.xlabel('Iteration')\n",
    "    plt.ylabel('Approximate Root')\n",
    "    plt.title('Muller Method Method Convergence')\n",
    "    plt.grid()\n",
    "    plt.show()\n",
    "\n",
    "# mullers_plot(f_numeric)"
   ]
  },
  {
   "cell_type": "markdown",
   "id": "5f239878",
   "metadata": {
    "papermill": {
     "duration": 0.006796,
     "end_time": "2025-03-14T14:55:36.481773",
     "exception": false,
     "start_time": "2025-03-14T14:55:36.474977",
     "status": "completed"
    },
    "tags": []
   },
   "source": [
    "### Interactive Dashboard"
   ]
  },
  {
   "cell_type": "code",
   "execution_count": 24,
   "id": "8359e23a",
   "metadata": {
    "execution": {
     "iopub.execute_input": "2025-03-14T14:55:36.496206Z",
     "iopub.status.busy": "2025-03-14T14:55:36.495839Z",
     "iopub.status.idle": "2025-03-14T14:55:36.660266Z",
     "shell.execute_reply": "2025-03-14T14:55:36.659369Z"
    },
    "papermill": {
     "duration": 0.173436,
     "end_time": "2025-03-14T14:55:36.661920",
     "exception": false,
     "start_time": "2025-03-14T14:55:36.488484",
     "status": "completed"
    },
    "tags": []
   },
   "outputs": [
    {
     "data": {
      "application/vnd.jupyter.widget-view+json": {
       "model_id": "afa9eb2776d64fa0be2a3526282ea91d",
       "version_major": 2,
       "version_minor": 0
      },
      "text/plain": [
       "Text(value='x**3 - 2*x - 5', description='f(x):', style=TextStyle(description_width='initial'))"
      ]
     },
     "metadata": {},
     "output_type": "display_data"
    }
   ],
   "source": [
    "import sympy as sp\n",
    "import ipywidgets as widgets\n",
    "from IPython.display import display\n",
    "\n",
    "x = sp.symbols('x')\n",
    "\n",
    "function_input = widgets.Text(\n",
    "    value=\"x**3 - 2*x - 5\", \n",
    "    description=\"f(x):\",\n",
    "    style={'description_width': 'initial'}\n",
    ")\n",
    "\n",
    "def process_function():\n",
    "    user_function = function_input.value  \n",
    "    try:\n",
    "        function = sp.sympify(user_function) \n",
    "        f_numeric = sp.lambdify(x, function, \"numpy\") \n",
    "        \n",
    "        print(\"\\nFunction successfully converted:\")\n",
    "        return function, user_function, f_numeric\n",
    "        \n",
    "    except Exception as e:\n",
    "        print(\"\\nInvalid function input. Please enter a valid mathematical expression.\")\n",
    "        return None, None\n",
    "        \n",
    "function_input.observe(process_function, names='value')\n",
    "\n",
    "display(function_input)"
   ]
  },
  {
   "cell_type": "code",
   "execution_count": 25,
   "id": "49c9ed0d",
   "metadata": {
    "execution": {
     "iopub.execute_input": "2025-03-14T14:55:36.677619Z",
     "iopub.status.busy": "2025-03-14T14:55:36.677279Z",
     "iopub.status.idle": "2025-03-14T14:55:36.861191Z",
     "shell.execute_reply": "2025-03-14T14:55:36.859976Z"
    },
    "papermill": {
     "duration": 0.193885,
     "end_time": "2025-03-14T14:55:36.863198",
     "exception": false,
     "start_time": "2025-03-14T14:55:36.669313",
     "status": "completed"
    },
    "tags": []
   },
   "outputs": [
    {
     "name": "stdout",
     "output_type": "stream",
     "text": [
      "\n",
      "Function successfully converted:\n",
      "Symbolic Function: x**3 - 2*x - 5\n",
      "User Function: x**3 - 2*x - 5\n",
      "f_numeric: <function _lambdifygenerated at 0x796e44a7eef0>\n"
     ]
    }
   ],
   "source": [
    "function, user_function, f_numeric = process_function()\n",
    "\n",
    "print(\"Symbolic Function:\", function)\n",
    "print(\"User Function:\", user_function)\n",
    "print('f_numeric:',f_numeric)"
   ]
  },
  {
   "cell_type": "code",
   "execution_count": 26,
   "id": "92233516",
   "metadata": {
    "execution": {
     "iopub.execute_input": "2025-03-14T14:55:36.880801Z",
     "iopub.status.busy": "2025-03-14T14:55:36.880471Z",
     "iopub.status.idle": "2025-03-14T14:55:38.534322Z",
     "shell.execute_reply": "2025-03-14T14:55:38.533162Z"
    },
    "papermill": {
     "duration": 1.663995,
     "end_time": "2025-03-14T14:55:38.535994",
     "exception": false,
     "start_time": "2025-03-14T14:55:36.871999",
     "status": "completed"
    },
    "tags": []
   },
   "outputs": [
    {
     "name": "stdout",
     "output_type": "stream",
     "text": [
      "Initial interval: a = 2, b = 3\n",
      "Root found: 2.0945520401000977\n",
      "Iterations: 20\n"
     ]
    },
    {
     "data": {
      "image/png": "[encoded data removed]",
      "text/plain": [
       "<Figure size 640x480 with 1 Axes>"
      ]
     },
     "metadata": {},
     "output_type": "display_data"
    },
    {
     "name": "stdout",
     "output_type": "stream",
     "text": [
      "None\n",
      "Initial interval: a = 2, b = 3\n",
      "Root found: 2.0945513981181274\n",
      "Iterations: 14\n"
     ]
    },
    {
     "data": {
      "image/png": "[encoded data removed]",
      "text/plain": [
       "<Figure size 640x480 with 1 Axes>"
      ]
     },
     "metadata": {},
     "output_type": "display_data"
    },
    {
     "name": "stdout",
     "output_type": "stream",
     "text": [
      "None\n",
      "x0: 2\n",
      "x1: -1\n",
      "x2: 1\n",
      "Iterations: 5\n",
      "Root found: 2.0945514815423274\n"
     ]
    },
    {
     "data": {
      "image/png": "[encoded data removed]",
      "text/plain": [
       "<Figure size 640x480 with 1 Axes>"
      ]
     },
     "metadata": {},
     "output_type": "display_data"
    },
    {
     "name": "stdout",
     "output_type": "stream",
     "text": [
      "None\n",
      "Initial interval: a = 2, b = 3\n",
      "Root found: 2.0945514955020554\n",
      "Iterations: 19\n"
     ]
    },
    {
     "data": {
      "image/png": "[encoded data removed]",
      "text/plain": [
       "<Figure size 640x480 with 1 Axes>"
      ]
     },
     "metadata": {},
     "output_type": "display_data"
    },
    {
     "name": "stdout",
     "output_type": "stream",
     "text": [
      "None\n",
      "Initial guess x0: 2\n",
      "Root found: 2.0945514815401642\n",
      "Iterations: 3\n"
     ]
    },
    {
     "data": {
      "image/png": "[encoded data removed]",
      "text/plain": [
       "<Figure size 640x480 with 1 Axes>"
      ]
     },
     "metadata": {},
     "output_type": "display_data"
    },
    {
     "name": "stdout",
     "output_type": "stream",
     "text": [
      "None\n",
      "Best initial x0: 2\n",
      "Root found: 2.0945514815423265\n",
      "Iterations taken: 4\n"
     ]
    },
    {
     "data": {
      "image/png": "[encoded data removed]",
      "text/plain": [
       "<Figure size 640x480 with 1 Axes>"
      ]
     },
     "metadata": {},
     "output_type": "display_data"
    },
    {
     "name": "stdout",
     "output_type": "stream",
     "text": [
      "None\n",
      "a:  2\n",
      "b:  -1\n",
      "Root found: 2.094551481247453\n",
      "Iterations: 11\n"
     ]
    },
    {
     "data": {
      "image/png": "[encoded data removed]",
      "text/plain": [
       "<Figure size 640x480 with 1 Axes>"
      ]
     },
     "metadata": {},
     "output_type": "display_data"
    },
    {
     "name": "stdout",
     "output_type": "stream",
     "text": [
      "None\n"
     ]
    }
   ],
   "source": [
    "print(bisection_plot(f_numeric))\n",
    "print(regula_falsi_plot(f_numeric))\n",
    "print(mullers_plot(f_numeric))\n",
    "print(brents_plot(f_numeric))\n",
    "print(halleys_plot(user_function))\n",
    "print(newton_raphson_plot(user_function))\n",
    "print(sceant_plot(f_numeric))"
   ]
  }
 ],
 "metadata": {
  "kaggle": {
   "accelerator": "none",
   "dataSources": [],
   "dockerImageVersionId": 30918,
   "isGpuEnabled": false,
   "isInternetEnabled": true,
   "language": "python",
   "sourceType": "notebook"
  },
  "kernelspec": {
   "display_name": "Python 3",
   "language": "python",
   "name": "python3"
  },
  "language_info": {
   "codemirror_mode": {
    "name": "ipython",
    "version": 3
   },
   "file_extension": ".py",
   "mimetype": "text/x-python",
   "name": "python",
   "nbconvert_exporter": "python",
   "pygments_lexer": "ipython3",
   "version": "3.10.12"
  },
  "papermill": {
   "default_parameters": {},
   "duration": 9.594131,
   "end_time": "2025-03-14T14:55:39.269947",
   "environment_variables": {},
   "exception": null,
   "input_path": "__notebook__.ipynb",
   "output_path": "__notebook__.ipynb",
   "parameters": {},
   "start_time": "2025-03-14T14:55:29.675816",
   "version": "2.6.0"
  },
  "widgets": {
   "application/vnd.jupyter.widget-state+json": {
    "state": {
     "0e8c592327f7488a92eba6e6546221e7": {
      "model_module": "@jupyter-widgets/controls",
      "model_module_version": "2.0.0",
      "model_name": "TextStyleModel",
      "state": {
       "_model_module": "@jupyter-widgets/controls",
       "_model_module_version": "2.0.0",
       "_model_name": "TextStyleModel",
       "_view_count": null,
       "_view_module": "@jupyter-widgets/base",
       "_view_module_version": "2.0.0",
       "_view_name": "StyleView",
       "background": null,
       "description_width": "initial",
       "font_size": null,
       "text_color": null
      }
     },
     "afa9eb2776d64fa0be2a3526282ea91d": {
      "model_module": "@jupyter-widgets/controls",
      "model_module_version": "2.0.0",
      "model_name": "TextModel",
      "state": {
       "_dom_classes": [],
       "_model_module": "@jupyter-widgets/controls",
       "_model_module_version": "2.0.0",
       "_model_name": "TextModel",
       "_view_count": null,
       "_view_module": "@jupyter-widgets/controls",
       "_view_module_version": "2.0.0",
       "_view_name": "TextView",
       "continuous_update": true,
       "description": "f(x):",
       "description_allow_html": false,
       "disabled": false,
       "layout": "IPY_MODEL_b5a50430e5fe4711b1fe579d344efa15",
       "placeholder": "​",
       "style": "IPY_MODEL_0e8c592327f7488a92eba6e6546221e7",
       "tabbable": null,
       "tooltip": null,
       "value": "x**3 - 2*x - 5"
      }
     },
     "b5a50430e5fe4711b1fe579d344efa15": {
      "model_module": "@jupyter-widgets/base",
      "model_module_version": "2.0.0",
      "model_name": "LayoutModel",
      "state": {
       "_model_module": "@jupyter-widgets/base",
       "_model_module_version": "2.0.0",
       "_model_name": "LayoutModel",
       "_view_count": null,
       "_view_module": "@jupyter-widgets/base",
       "_view_module_version": "2.0.0",
       "_view_name": "LayoutView",
       "align_content": null,
       "align_items": null,
       "align_self": null,
       "border_bottom": null,
       "border_left": null,
       "border_right": null,
       "border_top": null,
       "bottom": null,
       "display": null,
       "flex": null,
       "flex_flow": null,
       "grid_area": null,
       "grid_auto_columns": null,
       "grid_auto_flow": null,
       "grid_auto_rows": null,
       "grid_column": null,
       "grid_gap": null,
       "grid_row": null,
       "grid_template_areas": null,
       "grid_template_columns": null,
       "grid_template_rows": null,
       "height": null,
       "justify_content": null,
       "justify_items": null,
       "left": null,
       "margin": null,
       "max_height": null,
       "max_width": null,
       "min_height": null,
       "min_width": null,
       "object_fit": null,
       "object_position": null,
       "order": null,
       "overflow": null,
       "padding": null,
       "right": null,
       "top": null,
       "visibility": null,
       "width": null
      }
     }
    },
    "version_major": 2,
    "version_minor": 0
   }
  }
 },
 "nbformat": 4,
 "nbformat_minor": 5
}
