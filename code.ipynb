{
 "cells": [
  {
   "cell_type": "code",
   "execution_count": 1,
   "id": "ed2c7dc3",
   "metadata": {
    "_cell_guid": "b1076dfc-b9ad-4769-8c92-a6c4dae69d19",
    "_uuid": "8f2839f25d086af736a60e9eeb907d3b93b6e0e5",
    "execution": {
     "iopub.execute_input": "2025-03-15T00:09:02.537180Z",
     "iopub.status.busy": "2025-03-15T00:09:02.536421Z",
     "iopub.status.idle": "2025-03-15T00:09:03.723143Z",
     "shell.execute_reply": "2025-03-15T00:09:03.721748Z"
    },
    "papermill": {
     "duration": 1.198198,
     "end_time": "2025-03-15T00:09:03.725317",
     "exception": false,
     "start_time": "2025-03-15T00:09:02.527119",
     "status": "completed"
    },
    "tags": []
   },
   "outputs": [],
   "source": [
    "import numpy as np \n",
    "import pandas as pd \n",
    "import os\n",
    "for dirname, _, filenames in os.walk('/kaggle/input'):\n",
    "    for filename in filenames:\n",
    "        print(os.path.join(dirname, filename))"
   ]
  },
  {
   "cell_type": "markdown",
   "id": "9fed018c",
   "metadata": {
    "papermill": {
     "duration": 0.00743,
     "end_time": "2025-03-15T00:09:03.740586",
     "exception": false,
     "start_time": "2025-03-15T00:09:03.733156",
     "status": "completed"
    },
    "tags": []
   },
   "source": [
    "## Numerical Methods to Find Roots\n",
    "\n",
    "1. Bisection Method\n",
    "2. Regula Falsi Method\n",
    "3. Secant Method\n",
    "4. Newton Ramphson Method\n",
    "5. Brent's Method\n",
    "6. Halley's Method\n",
    "7. Muller's Method"
   ]
  },
  {
   "cell_type": "markdown",
   "id": "58d5ab24",
   "metadata": {
    "papermill": {
     "duration": 0.006988,
     "end_time": "2025-03-15T00:09:03.755040",
     "exception": false,
     "start_time": "2025-03-15T00:09:03.748052",
     "status": "completed"
    },
    "tags": []
   },
   "source": [
    "### 1. Bisection Method"
   ]
  },
  {
   "cell_type": "code",
   "execution_count": 2,
   "id": "a7c1b0c5",
   "metadata": {
    "execution": {
     "iopub.execute_input": "2025-03-15T00:09:03.771146Z",
     "iopub.status.busy": "2025-03-15T00:09:03.770650Z",
     "iopub.status.idle": "2025-03-15T00:09:03.779178Z",
     "shell.execute_reply": "2025-03-15T00:09:03.777975Z"
    },
    "papermill": {
     "duration": 0.018726,
     "end_time": "2025-03-15T00:09:03.781134",
     "exception": false,
     "start_time": "2025-03-15T00:09:03.762408",
     "status": "completed"
    },
    "tags": []
   },
   "outputs": [],
   "source": [
    "def bisection_method(f, tol=1e-6, max_iter=100):\n",
    "    value_a = []\n",
    "    value_b = []\n",
    "    \n",
    "    for i in range(-10,11):\n",
    "        if f(i) < 0:\n",
    "            value_a.append(i)\n",
    "        elif f(i) > 0:\n",
    "            value_b.append(i)\n",
    "\n",
    "    if not value_a or not value_b:\n",
    "        raise ValueError(\"Couldn't find a valid interval where f(a) and f(b) have opposite signs.\")\n",
    "\n",
    "    a = max(value_a, key=lambda x: -abs(x)) \n",
    "    b = min(value_b, key=lambda x: abs(x)) \n",
    "\n",
    "    ini_a = a\n",
    "    ini_b = b\n",
    "\n",
    "    # print('value taken for a:',value_a)\n",
    "    # print('value taken for b:',value_b)\n",
    "    \n",
    "    if f(a) * f(b) >= 0:\n",
    "        raise ValueError('The values must be one negative and one positive')\n",
    "\n",
    "    iterations = []\n",
    "    values = []\n",
    "\n",
    "    for i in range(max_iter):\n",
    "        c = (a+b)/2.0\n",
    "        iterations.append(i)\n",
    "        values.append(c)\n",
    "\n",
    "        if abs(f(c)) < tol or (b-a)/2 < tol:\n",
    "            return c, iterations, values, ini_a, ini_b\n",
    "\n",
    "        if f(a) * f(c) < 0:\n",
    "            b = c\n",
    "        else:\n",
    "            a = c\n",
    "    return c, iterations, values, ini_a, ini_b"
   ]
  },
  {
   "cell_type": "code",
   "execution_count": 3,
   "id": "939b1076",
   "metadata": {
    "execution": {
     "iopub.execute_input": "2025-03-15T00:09:03.797516Z",
     "iopub.status.busy": "2025-03-15T00:09:03.796899Z",
     "iopub.status.idle": "2025-03-15T00:09:03.805291Z",
     "shell.execute_reply": "2025-03-15T00:09:03.803856Z"
    },
    "papermill": {
     "duration": 0.018691,
     "end_time": "2025-03-15T00:09:03.807369",
     "exception": false,
     "start_time": "2025-03-15T00:09:03.788678",
     "status": "completed"
    },
    "tags": []
   },
   "outputs": [
    {
     "name": "stdout",
     "output_type": "stream",
     "text": [
      "Root found: 1.0\n",
      "Iterations: 1\n",
      "2 0\n",
      "[1.0]\n"
     ]
    }
   ],
   "source": [
    "f = lambda x: x**2 - 4*x + 3\n",
    "bisection_root, bisection_iterations, bisection_values, ini_a, ini_b = bisection_method(f)\n",
    "print(\"Root found:\", bisection_root)\n",
    "print('Iterations:', len(bisection_iterations))\n",
    "print(ini_a, ini_b)\n",
    "print(bisection_values)"
   ]
  },
  {
   "cell_type": "code",
   "execution_count": 4,
   "id": "549116a6",
   "metadata": {
    "execution": {
     "iopub.execute_input": "2025-03-15T00:09:03.825236Z",
     "iopub.status.busy": "2025-03-15T00:09:03.824831Z",
     "iopub.status.idle": "2025-03-15T00:09:03.831078Z",
     "shell.execute_reply": "2025-03-15T00:09:03.829835Z"
    },
    "papermill": {
     "duration": 0.017492,
     "end_time": "2025-03-15T00:09:03.833033",
     "exception": false,
     "start_time": "2025-03-15T00:09:03.815541",
     "status": "completed"
    },
    "tags": []
   },
   "outputs": [],
   "source": [
    "import matplotlib.pyplot as plt\n",
    "\n",
    "def bisection_plot(f, ax):\n",
    "    bisection_root, bisection_iterations, bisection_values, initial_val_a, initial_val_b = bisection_method(f)\n",
    "    # print(\"Root found:\", bisection_root)\n",
    "    # print('Iterations:', len(bisection_iterations))\n",
    "    ax.plot(bisection_iterations, bisection_values, marker='o', linestyle='-', label=f'Root: {bisection_root:.6f}')\n",
    "    ax.set_xlabel(f'Iteration - Initial Values: {initial_val_a, initial_val_b}')\n",
    "    ax.set_ylabel('Approximate Root')\n",
    "    ax.set_title('Bisection Method Convergence')\n",
    "    ax.grid(True)\n",
    "    ax.legend(loc=\"upper right\", title=f\"Iterations: {len(bisection_iterations)}\")\n",
    "    # plt.show()\n",
    "    \n",
    "# bisection_plot(f_numeric)"
   ]
  },
  {
   "cell_type": "markdown",
   "id": "e0bae471",
   "metadata": {
    "papermill": {
     "duration": 0.0072,
     "end_time": "2025-03-15T00:09:03.847870",
     "exception": false,
     "start_time": "2025-03-15T00:09:03.840670",
     "status": "completed"
    },
    "tags": []
   },
   "source": [
    "### 2. Regula Falsi Method"
   ]
  },
  {
   "cell_type": "code",
   "execution_count": 5,
   "id": "707961da",
   "metadata": {
    "execution": {
     "iopub.execute_input": "2025-03-15T00:09:03.864164Z",
     "iopub.status.busy": "2025-03-15T00:09:03.863808Z",
     "iopub.status.idle": "2025-03-15T00:09:03.872290Z",
     "shell.execute_reply": "2025-03-15T00:09:03.871124Z"
    },
    "papermill": {
     "duration": 0.018929,
     "end_time": "2025-03-15T00:09:03.874397",
     "exception": false,
     "start_time": "2025-03-15T00:09:03.855468",
     "status": "completed"
    },
    "tags": []
   },
   "outputs": [],
   "source": [
    "def regula_falsi_method(f,max_iter=100, tol=1e-6):\n",
    "\n",
    "    value_a = []\n",
    "    value_b = []\n",
    "    \n",
    "    for i in range(-5,5):\n",
    "        if f(i) < 0:\n",
    "            value_a.append(i)\n",
    "        elif f(i) > 0:\n",
    "            value_b.append(i)\n",
    "\n",
    "    if not value_a or not value_b:\n",
    "        raise ValueError(\"Couldn't find a valid interval where f(a) and f(b) have opposite signs.\")\n",
    "\n",
    "    a = max(value_a) \n",
    "    b = max(value_b)\n",
    "\n",
    "    ini_a = a\n",
    "    ini_b = b\n",
    "\n",
    "    # print('value taken for a:',value_a)\n",
    "    # print('value taken for b:',value_b)\n",
    "        \n",
    "    if f(a) * f(b) >= 0:\n",
    "        raise ValueError('The values must be one negative and one positive')\n",
    "    \n",
    "    iterations = []\n",
    "    values = []\n",
    "\n",
    "    for i in range(max_iter):\n",
    "        c = (a * f(b) - b * f(a)) / (f(b) - f(a))\n",
    "        iterations.append(i)\n",
    "        values.append(c)\n",
    "        \n",
    "        if abs(f(c)) < tol or (b-a)/2 < tol:\n",
    "            return c, iterations, values, ini_a, ini_b\n",
    "\n",
    "        if f(a) * f(c) < 0:\n",
    "            b = c\n",
    "        else:\n",
    "            a = c\n",
    "    return c, iterations, values, ini_a, ini_b"
   ]
  },
  {
   "cell_type": "code",
   "execution_count": 6,
   "id": "7ee99e54",
   "metadata": {
    "execution": {
     "iopub.execute_input": "2025-03-15T00:09:03.890718Z",
     "iopub.status.busy": "2025-03-15T00:09:03.890338Z",
     "iopub.status.idle": "2025-03-15T00:09:03.897952Z",
     "shell.execute_reply": "2025-03-15T00:09:03.896854Z"
    },
    "papermill": {
     "duration": 0.018155,
     "end_time": "2025-03-15T00:09:03.900097",
     "exception": false,
     "start_time": "2025-03-15T00:09:03.881942",
     "status": "completed"
    },
    "tags": []
   },
   "outputs": [
    {
     "name": "stdout",
     "output_type": "stream",
     "text": [
      "Root found: 2.094551401881983\n",
      "Iterations: 26\n",
      "Intials: 2 4\n",
      "Values [2.0384615384615383, 2.0615125105425918, 2.075172723284598, 2.08321354252924, 2.087927790345771, 2.09068523481637, 2.092295898266751, 2.093235955174138, 2.0937843582153826, 2.094104193762028, 2.0942906961019734, 2.0943994391279155, 2.0944628399617238, 2.0944998036058915, 2.0945213535713716, 2.0945339171599167, 2.0945412416620064, 2.0945455117902836, 2.094548001236858, 2.09454945256013, 2.094550298666946, 2.09455079193847, 2.0945510795105964, 2.094551247162107, 2.094551344901157, 2.094551401881983]\n"
     ]
    }
   ],
   "source": [
    "f = lambda x: x**3 - 2*x - 5\n",
    "root, iterations, values, ini_a, ini_b = regula_falsi_method(f)\n",
    "print(\"Root found:\", root)\n",
    "print('Iterations:', len(iterations))\n",
    "print('Intials:', ini_a, ini_b)\n",
    "print('Values', values)"
   ]
  },
  {
   "cell_type": "code",
   "execution_count": 7,
   "id": "e289271f",
   "metadata": {
    "execution": {
     "iopub.execute_input": "2025-03-15T00:09:03.917581Z",
     "iopub.status.busy": "2025-03-15T00:09:03.917169Z",
     "iopub.status.idle": "2025-03-15T00:09:03.922804Z",
     "shell.execute_reply": "2025-03-15T00:09:03.921793Z"
    },
    "papermill": {
     "duration": 0.01703,
     "end_time": "2025-03-15T00:09:03.924742",
     "exception": false,
     "start_time": "2025-03-15T00:09:03.907712",
     "status": "completed"
    },
    "tags": []
   },
   "outputs": [],
   "source": [
    "def regula_falsi_plot(f, ax):\n",
    "    root, iterations, values, ini_a, ini_b = regula_falsi_method(f)\n",
    "    # print(\"Root found:\", root)\n",
    "    # print('Iterations:', len(iterations))\n",
    "    ax.plot(iterations, values, marker='o', linestyle='-', label=f'Root: {root:.6f}')\n",
    "    ax.set_xlabel(f'Iteration: Initial Value {ini_a, ini_b}')\n",
    "    ax.set_ylabel('Approximate Root')\n",
    "    ax.set_title('Regula Falsi Method Convergence')\n",
    "    ax.grid(True)\n",
    "    ax.legend(loc=\"upper right\", title=f\"Iterations: {len(iterations)}\")\n",
    "    # plt.show()\n",
    "# regula_falsi_plot(f_numeric)"
   ]
  },
  {
   "cell_type": "markdown",
   "id": "51f420c7",
   "metadata": {
    "papermill": {
     "duration": 0.007778,
     "end_time": "2025-03-15T00:09:03.940344",
     "exception": false,
     "start_time": "2025-03-15T00:09:03.932566",
     "status": "completed"
    },
    "tags": []
   },
   "source": [
    "### 3. Secant Method\n",
    "\n",
    "Unlike Regula Falsi, the Secant Method does not require f(a) and f(b) to have opposite signs."
   ]
  },
  {
   "cell_type": "code",
   "execution_count": 8,
   "id": "53f74219",
   "metadata": {
    "execution": {
     "iopub.execute_input": "2025-03-15T00:09:03.956545Z",
     "iopub.status.busy": "2025-03-15T00:09:03.956142Z",
     "iopub.status.idle": "2025-03-15T00:09:03.963658Z",
     "shell.execute_reply": "2025-03-15T00:09:03.962722Z"
    },
    "papermill": {
     "duration": 0.017427,
     "end_time": "2025-03-15T00:09:03.965211",
     "exception": false,
     "start_time": "2025-03-15T00:09:03.947784",
     "status": "completed"
    },
    "tags": []
   },
   "outputs": [],
   "source": [
    "import random\n",
    "\n",
    "def secant_method(f, max_iter=100, tol=1e-6):\n",
    "    iterations = []\n",
    "    values = []\n",
    "    \n",
    "    num_samples = 20\n",
    "    sample_range = (-10, 10) \n",
    "    sample_points = np.linspace(sample_range[0], sample_range[1], num_samples)\n",
    "    \n",
    "    sample_points = np.round(sample_points).astype(int) \n",
    "    sample_points = np.unique(sample_points) \n",
    "    \n",
    "    function_values = np.abs(f(sample_points))  \n",
    "    \n",
    "    best_indices = np.argsort(function_values)[:2]\n",
    "    a, b = sample_points[best_indices]\n",
    "\n",
    "    ini_a = a\n",
    "    ini_b = b\n",
    "    \n",
    "    for i in range(max_iter):\n",
    "        c = b - (f(b) * (b - a)) / (f(b) - f(a))\n",
    "        \n",
    "        if abs(f(b)) < tol:\n",
    "            return b, iterations, values, ini_a, ini_b  \n",
    "\n",
    "        iterations.append(i)\n",
    "        values.append(c)\n",
    "\n",
    "        if abs(c - b) < tol:\n",
    "            return c, iterations, values, ini_a, ini_b \n",
    "\n",
    "        a = b\n",
    "        b = c\n",
    "\n",
    "    return c, iterations, values, ini_a, ini_b  "
   ]
  },
  {
   "cell_type": "code",
   "execution_count": 9,
   "id": "65700225",
   "metadata": {
    "execution": {
     "iopub.execute_input": "2025-03-15T00:09:03.981352Z",
     "iopub.status.busy": "2025-03-15T00:09:03.981000Z",
     "iopub.status.idle": "2025-03-15T00:09:03.984696Z",
     "shell.execute_reply": "2025-03-15T00:09:03.983731Z"
    },
    "papermill": {
     "duration": 0.013563,
     "end_time": "2025-03-15T00:09:03.986352",
     "exception": false,
     "start_time": "2025-03-15T00:09:03.972789",
     "status": "completed"
    },
    "tags": []
   },
   "outputs": [],
   "source": [
    "# f = f_numeric\n",
    "# root, iterations, values = secant_method(f)\n",
    "# print(\"Root found:\", root)\n",
    "# print('Iterations:', len(iterations))\n",
    "# print('Values:', values)"
   ]
  },
  {
   "cell_type": "code",
   "execution_count": 10,
   "id": "21fdb53f",
   "metadata": {
    "execution": {
     "iopub.execute_input": "2025-03-15T00:09:04.002713Z",
     "iopub.status.busy": "2025-03-15T00:09:04.002334Z",
     "iopub.status.idle": "2025-03-15T00:09:04.008042Z",
     "shell.execute_reply": "2025-03-15T00:09:04.007029Z"
    },
    "papermill": {
     "duration": 0.015752,
     "end_time": "2025-03-15T00:09:04.009881",
     "exception": false,
     "start_time": "2025-03-15T00:09:03.994129",
     "status": "completed"
    },
    "tags": []
   },
   "outputs": [],
   "source": [
    "def sceant_plot(f, ax):\n",
    "    root, iterations, values, ini_a, ini_b = secant_method(f)\n",
    "    # print(\"Root found:\", root)\n",
    "    # print('Iterations:', len(iterations))\n",
    "    ax.plot(iterations, values, marker='o', linestyle='-', label=f'Root: {root:.6f}')\n",
    "    ax.set_xlabel(f'Iteration: Initial Value {ini_a, ini_b }')\n",
    "    ax.set_ylabel('Approximate Root')\n",
    "    ax.grid(True)\n",
    "    ax.set_title('Secant Method Convergence')\n",
    "    ax.legend(loc=\"upper right\", title=f\"Iterations: {len(iterations)}\")"
   ]
  },
  {
   "cell_type": "markdown",
   "id": "4894af54",
   "metadata": {
    "papermill": {
     "duration": 0.007343,
     "end_time": "2025-03-15T00:09:04.024914",
     "exception": false,
     "start_time": "2025-03-15T00:09:04.017571",
     "status": "completed"
    },
    "tags": []
   },
   "source": [
    "### 4. Newton Ramphson Method"
   ]
  },
  {
   "cell_type": "code",
   "execution_count": 11,
   "id": "2c1bbc88",
   "metadata": {
    "execution": {
     "iopub.execute_input": "2025-03-15T00:09:04.041080Z",
     "iopub.status.busy": "2025-03-15T00:09:04.040739Z",
     "iopub.status.idle": "2025-03-15T00:09:07.118337Z",
     "shell.execute_reply": "2025-03-15T00:09:07.117167Z"
    },
    "papermill": {
     "duration": 3.088107,
     "end_time": "2025-03-15T00:09:07.120384",
     "exception": false,
     "start_time": "2025-03-15T00:09:04.032277",
     "status": "completed"
    },
    "tags": []
   },
   "outputs": [],
   "source": [
    "from sympy import symbols, diff, lambdify\n",
    "import random\n",
    "\n",
    "def newton_raphson_method(f, max_iter=100, tol=1e-6):\n",
    "    # differentiating the f(x)\n",
    "    x = symbols('x')  \n",
    "    f_prime = diff(f, x) \n",
    "    # Converting the symbolic functions to numerical functions\n",
    "    f = lambdify(x, f, \"numpy\")\n",
    "    df = lambdify(x, f_prime, \"numpy\")\n",
    "\n",
    "    best_x0 = None\n",
    "    best_f_value = float('inf')\n",
    "\n",
    "    for _ in range(10):\n",
    "        x0_candidate = random.randint(-5, 5)\n",
    "        while x0_candidate ==0: \n",
    "            x0_candidate = random.randint(-5, 5)\n",
    "        f_value = abs(f(x0_candidate))\n",
    "\n",
    "        if f_value < best_f_value:\n",
    "            best_f_value = f_value\n",
    "            best_x0 = x0_candidate\n",
    "\n",
    "    x0 = best_x0\n",
    "\n",
    "    iterations = []\n",
    "    values = []\n",
    "\n",
    "    for i in range(max_iter):\n",
    "        f_x0 = f(x0)\n",
    "        df_x0 = df(x0)\n",
    "\n",
    "        if abs(df_x0) < 1e-10:\n",
    "            raise ValueError(\"Derivative too close to zero, Newton-Raphson may not converge.\")\n",
    "\n",
    "        x_n = x0 - f_x0 / df_x0\n",
    "        iterations.append(i)\n",
    "        values.append(x_n)\n",
    "\n",
    "        if abs(x_n - x0) < tol: \n",
    "            return x_n, iterations, values, best_x0\n",
    "\n",
    "        x0 = x_n \n",
    "\n",
    "    return x0, iterations, values, best_x0"
   ]
  },
  {
   "cell_type": "code",
   "execution_count": 12,
   "id": "ebd495bf",
   "metadata": {
    "execution": {
     "iopub.execute_input": "2025-03-15T00:09:07.136744Z",
     "iopub.status.busy": "2025-03-15T00:09:07.136257Z",
     "iopub.status.idle": "2025-03-15T00:09:07.140094Z",
     "shell.execute_reply": "2025-03-15T00:09:07.139147Z"
    },
    "papermill": {
     "duration": 0.01362,
     "end_time": "2025-03-15T00:09:07.141748",
     "exception": false,
     "start_time": "2025-03-15T00:09:07.128128",
     "status": "completed"
    },
    "tags": []
   },
   "outputs": [],
   "source": [
    "# x = symbols('x')\n",
    "# f = user_function\n",
    "# root, iterations, values = newton_raphson_method(f)\n",
    "# print(f\"Root found: {root}\")\n",
    "# print(f\"Iterations taken: {len(iterations)}\")"
   ]
  },
  {
   "cell_type": "code",
   "execution_count": 13,
   "id": "95046ef3",
   "metadata": {
    "execution": {
     "iopub.execute_input": "2025-03-15T00:09:07.158255Z",
     "iopub.status.busy": "2025-03-15T00:09:07.157918Z",
     "iopub.status.idle": "2025-03-15T00:09:07.163384Z",
     "shell.execute_reply": "2025-03-15T00:09:07.162318Z"
    },
    "papermill": {
     "duration": 0.015637,
     "end_time": "2025-03-15T00:09:07.165142",
     "exception": false,
     "start_time": "2025-03-15T00:09:07.149505",
     "status": "completed"
    },
    "tags": []
   },
   "outputs": [],
   "source": [
    "def newton_raphson_plot(f, ax):\n",
    "    newton_root, newton_iterations, newton_values, best_x0 = newton_raphson_method(f)\n",
    "    # print(f\"Root found: {newton_root}\")\n",
    "    # print(f\"Iterations taken: {len(newton_iterations)}\")\n",
    "    ax.plot(newton_iterations, newton_values, marker='o', linestyle='-', label=f'Root: {newton_root:.6f}')\n",
    "    ax.set_xlabel(f'Iteration: Initial Value {best_x0}')\n",
    "    ax.set_ylabel('Approximate Root')\n",
    "    ax.grid(True)\n",
    "    ax.set_title('Newton Ramphson Method Convergence')\n",
    "    ax.legend(loc=\"upper right\", title=f\"Iterations: {len(newton_iterations)}\")"
   ]
  },
  {
   "cell_type": "markdown",
   "id": "e0452a0e",
   "metadata": {
    "papermill": {
     "duration": 0.00751,
     "end_time": "2025-03-15T00:09:07.180301",
     "exception": false,
     "start_time": "2025-03-15T00:09:07.172791",
     "status": "completed"
    },
    "tags": []
   },
   "source": [
    "### 5. Brent's Method"
   ]
  },
  {
   "cell_type": "markdown",
   "id": "128a13c9",
   "metadata": {
    "papermill": {
     "duration": 0.006935,
     "end_time": "2025-03-15T00:09:07.194765",
     "exception": false,
     "start_time": "2025-03-15T00:09:07.187830",
     "status": "completed"
    },
    "tags": []
   },
   "source": [
    "reference: https://en.wikipedia.org/wiki/Brent%27s_method#:~:text=If%20f(bk)%2C,)%20%2F%204%20and%20bk."
   ]
  },
  {
   "cell_type": "code",
   "execution_count": 14,
   "id": "34b6f322",
   "metadata": {
    "execution": {
     "iopub.execute_input": "2025-03-15T00:09:07.211554Z",
     "iopub.status.busy": "2025-03-15T00:09:07.210954Z",
     "iopub.status.idle": "2025-03-15T00:09:07.229496Z",
     "shell.execute_reply": "2025-03-15T00:09:07.228188Z"
    },
    "papermill": {
     "duration": 0.029245,
     "end_time": "2025-03-15T00:09:07.231398",
     "exception": false,
     "start_time": "2025-03-15T00:09:07.202153",
     "status": "completed"
    },
    "tags": []
   },
   "outputs": [],
   "source": [
    "def brent_method(f, tol=1e-6, max_iter=100):\n",
    "    value_a = []\n",
    "    value_b = []\n",
    "    \n",
    "    for i in range(-10,11):\n",
    "        if f(i) < 0:\n",
    "            value_a.append(i)\n",
    "        elif f(i) > 0:\n",
    "            value_b.append(i)\n",
    "\n",
    "    if not value_a or not value_b:\n",
    "        raise ValueError(\"Couldn't find a valid interval where f(a) and f(b) have opposite signs.\")\n",
    "\n",
    "    a = max(value_a, key=lambda x: -abs(x)) \n",
    "    b = min(value_b, key=lambda x: abs(x))\n",
    "\n",
    "    ini_a = a\n",
    "    ini_b = b\n",
    "    \n",
    "    # print('value taken for a:',value_a)\n",
    "    # print('value taken for b:',value_b)\n",
    "    \n",
    "    if f(a) * f(b) >= 0:\n",
    "        raise ValueError(\"The values must be one negative and one positive.\")\n",
    "\n",
    "    c, d = a, a  # Additional points for interpolation\n",
    "    fa, fb, fc = f(a), f(b), f(a)\n",
    "    s = b\n",
    "    mflag = True  # Tracking to use bisection or not\n",
    "\n",
    "    iterations = []\n",
    "    values = []\n",
    "    \n",
    "    for i in range(max_iter):\n",
    "        \n",
    "        # Using Inverse Quadratic Interpolation\n",
    "        if f(a) != f(c) and f(b) != f(c): \n",
    "            s = (a * f(b) * f(c)) / ((f(a) - f(b)) * (f(a) - f(c))) + \\\n",
    "                (b * f(a) * f(c)) / ((f(b) - f(a)) * (f(b) - f(c))) + \\\n",
    "                (c * f(a) * f(b)) / ((f(c) - f(a)) * (f(c) - f(b)))\n",
    "            s_name = 'Inverse'\n",
    "            \n",
    "        # Use Secant Method\n",
    "        else:\n",
    "            s = b - (f(b) * (b - a)) / (f(b) - f(a))\n",
    "            s_name = 'Secant'\n",
    "\n",
    "        cond1 = (s < (3 * a + b) / 4 or s > b)\n",
    "        cond2 = mflag and abs(s - b) >= abs(b - c) / 2\n",
    "        cond3 = not mflag and abs(s - b) >= abs(c - d) / 2\n",
    "        cond4 = mflag and abs(b - c) < tol\n",
    "        cond5 = not mflag and abs(c - d) < tol\n",
    "        \n",
    "        # Bisection\n",
    "        if cond1 or cond2 or cond3 or cond4 or cond5:\n",
    "            s = (a + b) / 2  \n",
    "            mflag = True\n",
    "            s_name = 'Bisection'\n",
    "        else:\n",
    "            mflag = False\n",
    "\n",
    "        values.append(s)\n",
    "        iterations.append(i)\n",
    "        # print(f'the methods used in step: {i} is {s_name}')\n",
    "        fs = f(s)\n",
    "        d, c = c, b\n",
    "        fc = fb\n",
    "        if f(a) * fs < 0:\n",
    "            b, fb = s, fs\n",
    "        else:\n",
    "            a, fa = s, fs\n",
    "\n",
    "        if abs(fa) < abs(fb):\n",
    "            a, b = b, a\n",
    "            fa, fb = fb, fa\n",
    "\n",
    "        if abs(fb) < tol:\n",
    "            return b, iterations, values, ini_a, ini_b  \n",
    "            \n",
    "    return b, iterations, values, ini_a, ini_b"
   ]
  },
  {
   "cell_type": "code",
   "execution_count": 15,
   "id": "4ed9a0e8",
   "metadata": {
    "execution": {
     "iopub.execute_input": "2025-03-15T00:09:07.253525Z",
     "iopub.status.busy": "2025-03-15T00:09:07.252961Z",
     "iopub.status.idle": "2025-03-15T00:09:07.257761Z",
     "shell.execute_reply": "2025-03-15T00:09:07.256524Z"
    },
    "papermill": {
     "duration": 0.018567,
     "end_time": "2025-03-15T00:09:07.259943",
     "exception": false,
     "start_time": "2025-03-15T00:09:07.241376",
     "status": "completed"
    },
    "tags": []
   },
   "outputs": [],
   "source": [
    "# f = f_numeric\n",
    "# root, iterations, values = brent_method(f)\n",
    "# print(f\"Root found: {root}\")\n",
    "# print(f'Values: ', values)\n",
    "# print(f'Iterations: {len(iterations)}')"
   ]
  },
  {
   "cell_type": "code",
   "execution_count": 16,
   "id": "58e410cc",
   "metadata": {
    "execution": {
     "iopub.execute_input": "2025-03-15T00:09:07.282746Z",
     "iopub.status.busy": "2025-03-15T00:09:07.282245Z",
     "iopub.status.idle": "2025-03-15T00:09:07.288812Z",
     "shell.execute_reply": "2025-03-15T00:09:07.287740Z"
    },
    "papermill": {
     "duration": 0.021133,
     "end_time": "2025-03-15T00:09:07.290556",
     "exception": false,
     "start_time": "2025-03-15T00:09:07.269423",
     "status": "completed"
    },
    "tags": []
   },
   "outputs": [],
   "source": [
    "def brents_plot(f, ax):\n",
    "    root, iterations, values, ini_a, ini_b = brent_method(f)\n",
    "    # print(f\"Root found: {root}\")\n",
    "    # print(f'Iterations: {len(iterations)}')\n",
    "    ax.plot(iterations, values, marker='o', linestyle='-', label=f'Root: {root:.6f}')\n",
    "    ax.set_xlabel(f'Iteration: Initial Value {ini_a, ini_b}')\n",
    "    ax.set_ylabel('Approximate Root')\n",
    "    ax.grid(True)\n",
    "    ax.set_title('Brent Method Convergence')\n",
    "    ax.legend(loc=\"upper right\", title=f\"Iterations: {len(iterations)}\")"
   ]
  },
  {
   "cell_type": "markdown",
   "id": "42056690",
   "metadata": {
    "papermill": {
     "duration": 0.007165,
     "end_time": "2025-03-15T00:09:07.305207",
     "exception": false,
     "start_time": "2025-03-15T00:09:07.298042",
     "status": "completed"
    },
    "tags": []
   },
   "source": [
    "### 6. Halley's Method\n",
    "\n",
    "Halley’s method is an extension of Newton-Raphson's method, using the second derivative to achieve cubic convergence (which is even faster than Newton’s quadratic convergence)."
   ]
  },
  {
   "cell_type": "code",
   "execution_count": 17,
   "id": "31edb400",
   "metadata": {
    "execution": {
     "iopub.execute_input": "2025-03-15T00:09:07.321166Z",
     "iopub.status.busy": "2025-03-15T00:09:07.320806Z",
     "iopub.status.idle": "2025-03-15T00:09:07.329119Z",
     "shell.execute_reply": "2025-03-15T00:09:07.327924Z"
    },
    "papermill": {
     "duration": 0.018352,
     "end_time": "2025-03-15T00:09:07.330884",
     "exception": false,
     "start_time": "2025-03-15T00:09:07.312532",
     "status": "completed"
    },
    "tags": []
   },
   "outputs": [],
   "source": [
    "def halley_method(f, tol=1e-6, max_iter=100):\n",
    "    x = symbols('x')\n",
    "    \n",
    "    f_prime = diff(f, x)   \n",
    "    f_double_prime = diff(f_prime, x)  \n",
    "\n",
    "    f_numeric = lambdify(x, f, 'numpy')\n",
    "    f_prime_numeric = lambdify(x, f_prime, 'numpy')\n",
    "    f_double_prime_numeric = lambdify(x, f_double_prime, 'numpy')\n",
    "\n",
    "    best_x0 = None\n",
    "    best_f_value = float('inf')\n",
    "    \n",
    "    for i in range(-10, 11): \n",
    "        f_val = abs(f_numeric(i))\n",
    "        if f_val < best_f_value:\n",
    "            best_f_value = f_val\n",
    "            best_x0 = i\n",
    "\n",
    "    x_n = best_x0 \n",
    "\n",
    "    iterations = []\n",
    "    values = []\n",
    "\n",
    "    for i in range(max_iter):\n",
    "        fx_n = f_numeric(x_n)\n",
    "        fpx_n = f_prime_numeric(x_n)\n",
    "        fppx_n = f_double_prime_numeric(x_n)\n",
    "\n",
    "        iterations.append(i)\n",
    "        values.append(x_n)\n",
    "\n",
    "        if abs(fx_n) < tol:\n",
    "            return x_n, iterations, values, best_x0 \n",
    "\n",
    "        denominator = 2 * fpx_n**2 - fx_n * fppx_n\n",
    "        if abs(denominator) < 1e-12: \n",
    "            raise ValueError(\"Halley's method failed: near zero second derivative.\")\n",
    "\n",
    "        x_next = x_n - (2 * fx_n * fpx_n) / denominator\n",
    "        \n",
    "        if abs(x_next - x_n) < tol:\n",
    "            return x_next, iterations, values, best_x0\n",
    "\n",
    "        x_n = x_next\n",
    "\n",
    "    return x_n, iterations, values, best_x0"
   ]
  },
  {
   "cell_type": "code",
   "execution_count": 18,
   "id": "c6716679",
   "metadata": {
    "execution": {
     "iopub.execute_input": "2025-03-15T00:09:07.347554Z",
     "iopub.status.busy": "2025-03-15T00:09:07.347167Z",
     "iopub.status.idle": "2025-03-15T00:09:07.350983Z",
     "shell.execute_reply": "2025-03-15T00:09:07.349759Z"
    },
    "papermill": {
     "duration": 0.0141,
     "end_time": "2025-03-15T00:09:07.352876",
     "exception": false,
     "start_time": "2025-03-15T00:09:07.338776",
     "status": "completed"
    },
    "tags": []
   },
   "outputs": [],
   "source": [
    "# x = symbols('x')\n",
    "# f = user_function\n",
    "# root, iterations, values = halley_method(f)\n",
    "# print(f\"Root found: {root}\")\n",
    "# print(f'Iterations: {len(iterations)}')"
   ]
  },
  {
   "cell_type": "code",
   "execution_count": 19,
   "id": "ceb1991c",
   "metadata": {
    "execution": {
     "iopub.execute_input": "2025-03-15T00:09:07.375893Z",
     "iopub.status.busy": "2025-03-15T00:09:07.375540Z",
     "iopub.status.idle": "2025-03-15T00:09:07.381814Z",
     "shell.execute_reply": "2025-03-15T00:09:07.380623Z"
    },
    "papermill": {
     "duration": 0.018638,
     "end_time": "2025-03-15T00:09:07.383612",
     "exception": false,
     "start_time": "2025-03-15T00:09:07.364974",
     "status": "completed"
    },
    "tags": []
   },
   "outputs": [],
   "source": [
    "def halleys_plot(f, ax):\n",
    "    root, iterations, values, best_x0 = halley_method(f)\n",
    "    # print(f\"Root found: {root}\")\n",
    "    # print(f'Iterations: {len(iterations)}')\n",
    "    ax.plot(iterations, values, marker='o', linestyle='-', label=f'Root: {root:.6f}')\n",
    "    ax.set_xlabel(f'Iteration: Initial Value {best_x0}')\n",
    "    ax.set_ylabel('Approximate Root')\n",
    "    ax.grid(True)\n",
    "    ax.set_title('Halleys Method Method Convergence')\n",
    "    ax.legend(loc=\"upper right\", title=f\"Iterations: {len(iterations)}\")"
   ]
  },
  {
   "cell_type": "markdown",
   "id": "e8179225",
   "metadata": {
    "papermill": {
     "duration": 0.012689,
     "end_time": "2025-03-15T00:09:07.408237",
     "exception": false,
     "start_time": "2025-03-15T00:09:07.395548",
     "status": "completed"
    },
    "tags": []
   },
   "source": [
    "### 7. Müller’s Method"
   ]
  },
  {
   "cell_type": "code",
   "execution_count": 20,
   "id": "fbf47a45",
   "metadata": {
    "execution": {
     "iopub.execute_input": "2025-03-15T00:09:07.427049Z",
     "iopub.status.busy": "2025-03-15T00:09:07.426703Z",
     "iopub.status.idle": "2025-03-15T00:09:07.438012Z",
     "shell.execute_reply": "2025-03-15T00:09:07.436779Z"
    },
    "papermill": {
     "duration": 0.023358,
     "end_time": "2025-03-15T00:09:07.440369",
     "exception": false,
     "start_time": "2025-03-15T00:09:07.417011",
     "status": "completed"
    },
    "tags": []
   },
   "outputs": [],
   "source": [
    "import numpy as np\n",
    "\n",
    "def muller(f, tol=1e-6, max_iter=100):\n",
    "    iterations = []\n",
    "    values = []\n",
    "    \n",
    "    num_samples = 20\n",
    "    sample_range = (-10, 10) \n",
    "    sample_points = np.linspace(sample_range[0], sample_range[1], num_samples)\n",
    "    \n",
    "    sample_points = np.round(sample_points).astype(int) \n",
    "    sample_points = np.unique(sample_points) \n",
    "    \n",
    "    function_values = np.abs(f(sample_points))  \n",
    "    \n",
    "    best_indices = np.argsort(function_values)[:3]\n",
    "    x0, x1, x2 = sample_points[best_indices]\n",
    "\n",
    "    ini_x0 = x0\n",
    "    ini_x1 = x1\n",
    "    ini_x2 = x2\n",
    "    \n",
    "    for i in range(max_iter):\n",
    "        h1 = x1 - x0\n",
    "        h2 = x2 - x1\n",
    "        del1 = (f(x1) - f(x0)) / h1\n",
    "        del2 = (f(x2) - f(x1)) / h2\n",
    "        a = (del2 - del1) / (h2 + h1)\n",
    "        b, c = a * h2 + del2, f(x2)\n",
    "        \n",
    "        if b**2 - 4*a*c >= 0:\n",
    "             D = np.sqrt(b**2 - 4*a*c)\n",
    "        else:\n",
    "            return \"Complex roots detected\", iterations, values, ini_x0, ini_x1, ini_x2\n",
    "\n",
    "        E = b + D if abs(b + D) > abs(b - D) else b - D\n",
    "        if E == 0:\n",
    "            return None, iterations, values, ini_x0, ini_x1, ini_x2 \n",
    "\n",
    "        x_new = x2 - (2 * c) / E \n",
    "\n",
    "        iterations.append(i)\n",
    "        values.append(x_new)\n",
    "\n",
    "        if abs(x2 - x_new) < tol:\n",
    "            return x_new, iterations, values, ini_x0, ini_x1, ini_x2 \n",
    "\n",
    "        x0, x1, x2 = x1, x2, x_new\n",
    "    \n",
    "    return x2, iterations, values, ini_x0, ini_x1, ini_x2"
   ]
  },
  {
   "cell_type": "code",
   "execution_count": 21,
   "id": "3b54ef6a",
   "metadata": {
    "execution": {
     "iopub.execute_input": "2025-03-15T00:09:07.464202Z",
     "iopub.status.busy": "2025-03-15T00:09:07.463825Z",
     "iopub.status.idle": "2025-03-15T00:09:07.467786Z",
     "shell.execute_reply": "2025-03-15T00:09:07.466709Z"
    },
    "papermill": {
     "duration": 0.017085,
     "end_time": "2025-03-15T00:09:07.469668",
     "exception": false,
     "start_time": "2025-03-15T00:09:07.452583",
     "status": "completed"
    },
    "tags": []
   },
   "outputs": [],
   "source": [
    "# f = f_numeric\n",
    "# root, iterations, values = muller(f)\n",
    "# print(f'Iterations: {len(iterations)}')\n",
    "# print(f'Values: {values}')\n",
    "# print(f'Root found: {root}')"
   ]
  },
  {
   "cell_type": "code",
   "execution_count": 22,
   "id": "b6461c50",
   "metadata": {
    "execution": {
     "iopub.execute_input": "2025-03-15T00:09:07.486011Z",
     "iopub.status.busy": "2025-03-15T00:09:07.485652Z",
     "iopub.status.idle": "2025-03-15T00:09:07.491518Z",
     "shell.execute_reply": "2025-03-15T00:09:07.490096Z"
    },
    "papermill": {
     "duration": 0.016296,
     "end_time": "2025-03-15T00:09:07.493622",
     "exception": false,
     "start_time": "2025-03-15T00:09:07.477326",
     "status": "completed"
    },
    "tags": []
   },
   "outputs": [],
   "source": [
    "def mullers_plot(f, ax):\n",
    "    root, iterations, values, ini_x0, ini_x1, ini_x2  = muller(f)\n",
    "    # print(f'Iterations: {len(iterations)}')\n",
    "    # print(f'Root found: {root}')\n",
    "    ax.plot(iterations, values, marker='o', linestyle='-', label=f'Root: {root:.6f}')\n",
    "    ax.set_xlabel(f'Iteration: Initial Values {ini_x0, ini_x1, ini_x2}')\n",
    "    ax.set_ylabel('Approximate Root')\n",
    "    ax.grid(True)\n",
    "    ax.set_title('Muller Method Method Convergence')\n",
    "    ax.legend(loc=\"upper right\", title=f\"Iterations: {len(iterations)}\")"
   ]
  },
  {
   "cell_type": "markdown",
   "id": "166c10ae",
   "metadata": {
    "papermill": {
     "duration": 0.007186,
     "end_time": "2025-03-15T00:09:07.508426",
     "exception": false,
     "start_time": "2025-03-15T00:09:07.501240",
     "status": "completed"
    },
    "tags": []
   },
   "source": [
    "### Interactive Dashboard"
   ]
  },
  {
   "cell_type": "code",
   "execution_count": 23,
   "id": "c2ef2b77",
   "metadata": {
    "execution": {
     "iopub.execute_input": "2025-03-15T00:09:07.524613Z",
     "iopub.status.busy": "2025-03-15T00:09:07.524209Z",
     "iopub.status.idle": "2025-03-15T00:09:07.720153Z",
     "shell.execute_reply": "2025-03-15T00:09:07.718893Z"
    },
    "papermill": {
     "duration": 0.206026,
     "end_time": "2025-03-15T00:09:07.721899",
     "exception": false,
     "start_time": "2025-03-15T00:09:07.515873",
     "status": "completed"
    },
    "tags": []
   },
   "outputs": [],
   "source": [
    "import sympy as sp\n",
    "import ipywidgets as widgets\n",
    "from IPython.display import display\n",
    "\n",
    "x = sp.symbols('x')\n",
    "\n",
    "function_input = widgets.Text(\n",
    "    value=\"x**3 - 2*x - 5\", \n",
    "    description=\"f(x):\",\n",
    "    style={'description_width': 'initial'}\n",
    ")\n",
    "\n",
    "def process_function():\n",
    "    user_function = function_input.value  \n",
    "    try:\n",
    "        function = sp.sympify(user_function) \n",
    "        f_numeric = sp.lambdify(x, function, \"numpy\") \n",
    "\n",
    "        return function, user_function, f_numeric\n",
    "        \n",
    "    except Exception as e:\n",
    "        print(\"\\nInvalid function input. Please enter a valid mathematical expression.\")\n",
    "        \n",
    "function_input.observe(process_function, names='value')\n",
    "\n",
    "# display(function_input)"
   ]
  },
  {
   "cell_type": "code",
   "execution_count": 24,
   "id": "da62dcc0",
   "metadata": {
    "execution": {
     "iopub.execute_input": "2025-03-15T00:09:07.738677Z",
     "iopub.status.busy": "2025-03-15T00:09:07.738296Z",
     "iopub.status.idle": "2025-03-15T00:09:07.746625Z",
     "shell.execute_reply": "2025-03-15T00:09:07.745356Z"
    },
    "papermill": {
     "duration": 0.018419,
     "end_time": "2025-03-15T00:09:07.748288",
     "exception": false,
     "start_time": "2025-03-15T00:09:07.729869",
     "status": "completed"
    },
    "tags": []
   },
   "outputs": [],
   "source": [
    "def plot():\n",
    "    function, user_function, f_numeric = process_function()\n",
    "    \n",
    "    fig, axes = plt.subplots(3, 3, figsize=(12, 7))\n",
    "    fig.suptitle(f\"Root-Finding Methods for f(x) = {user_function}\", fontsize=16)\n",
    "\n",
    "    methods = {\n",
    "        \"Bisection\": (bisection_plot, f_numeric, axes[0, 0]),\n",
    "        \"Regula Falsi\": (regula_falsi_plot, f_numeric, axes[0, 1]),\n",
    "        \"Müller's\": (mullers_plot, f_numeric, axes[0, 2]),\n",
    "        \"Brent's\": (brents_plot, f_numeric, axes[1, 0]),\n",
    "        \"Halley's\": (halleys_plot, user_function, axes[1, 1]),  \n",
    "        \"Newton-Raphson\": (newton_raphson_plot, user_function, axes[1, 2]), \n",
    "        \"Secant\": (sceant_plot, f_numeric, axes[2, 0])\n",
    "    }\n",
    "\n",
    "    for method, (plot_func, func, ax) in methods.items():\n",
    "        try:\n",
    "            plot_func(func, ax) \n",
    "            ax.grid(True)\n",
    "        except Exception as e:\n",
    "            print(f\"❌ Error in {method}: {e}\")\n",
    "\n",
    "    for i in range(len(methods), 9):\n",
    "        fig.delaxes(axes.flat[i])\n",
    "\n",
    "    plt.tight_layout()\n",
    "    plt.show()"
   ]
  },
  {
   "cell_type": "code",
   "execution_count": 25,
   "id": "dda362e3",
   "metadata": {
    "execution": {
     "iopub.execute_input": "2025-03-15T00:09:07.764422Z",
     "iopub.status.busy": "2025-03-15T00:09:07.764078Z",
     "iopub.status.idle": "2025-03-15T00:09:09.651196Z",
     "shell.execute_reply": "2025-03-15T00:09:09.650017Z"
    },
    "papermill": {
     "duration": 1.898042,
     "end_time": "2025-03-15T00:09:09.653894",
     "exception": false,
     "start_time": "2025-03-15T00:09:07.755852",
     "status": "completed"
    },
    "tags": []
   },
   "outputs": [
    {
     "data": {
      "application/vnd.jupyter.widget-view+json": {
       "model_id": "1d17d6fcec0b47f1b6222b0088a6b3fe",
       "version_major": 2,
       "version_minor": 0
      },
      "text/plain": [
       "Text(value='x**3 - 2*x - 5', description='f(x):', style=TextStyle(description_width='initial'))"
      ]
     },
     "metadata": {},
     "output_type": "display_data"
    },
    {
     "name": "stdout",
     "output_type": "stream",
     "text": [
      "None\n"
     ]
    },
    {
     "data": {
      "image/png": "[encoded data removed]",
      "text/plain": [
       "<Figure size 1200x700 with 7 Axes>"
      ]
     },
     "metadata": {},
     "output_type": "display_data"
    }
   ],
   "source": [
    "print(display(function_input))\n",
    "plot()"
   ]
  }
 ],
 "metadata": {
  "kaggle": {
   "accelerator": "none",
   "dataSources": [],
   "dockerImageVersionId": 30918,
   "isGpuEnabled": false,
   "isInternetEnabled": true,
   "language": "python",
   "sourceType": "notebook"
  },
  "kernelspec": {
   "display_name": "Python 3",
   "language": "python",
   "name": "python3"
  },
  "language_info": {
   "codemirror_mode": {
    "name": "ipython",
    "version": 3
   },
   "file_extension": ".py",
   "mimetype": "text/x-python",
   "name": "python",
   "nbconvert_exporter": "python",
   "pygments_lexer": "ipython3",
   "version": "3.10.12"
  },
  "papermill": {
   "default_parameters": {},
   "duration": 10.971895,
   "end_time": "2025-03-15T00:09:10.386978",
   "environment_variables": {},
   "exception": null,
   "input_path": "__notebook__.ipynb",
   "output_path": "__notebook__.ipynb",
   "parameters": {},
   "start_time": "2025-03-15T00:08:59.415083",
   "version": "2.6.0"
  },
  "widgets": {
   "application/vnd.jupyter.widget-state+json": {
    "state": {
     "1d17d6fcec0b47f1b6222b0088a6b3fe": {
      "model_module": "@jupyter-widgets/controls",
      "model_module_version": "2.0.0",
      "model_name": "TextModel",
      "state": {
       "_dom_classes": [],
       "_model_module": "@jupyter-widgets/controls",
       "_model_module_version": "2.0.0",
       "_model_name": "TextModel",
       "_view_count": null,
       "_view_module": "@jupyter-widgets/controls",
       "_view_module_version": "2.0.0",
       "_view_name": "TextView",
       "continuous_update": true,
       "description": "f(x):",
       "description_allow_html": false,
       "disabled": false,
       "layout": "IPY_MODEL_fb359aafdc7a4d57a6bd9bef0b99713a",
       "placeholder": "​",
       "style": "IPY_MODEL_b7969e54131d44c2a91e916573542710",
       "tabbable": null,
       "tooltip": null,
       "value": "x**3 - 2*x - 5"
      }
     },
     "b7969e54131d44c2a91e916573542710": {
      "model_module": "@jupyter-widgets/controls",
      "model_module_version": "2.0.0",
      "model_name": "TextStyleModel",
      "state": {
       "_model_module": "@jupyter-widgets/controls",
       "_model_module_version": "2.0.0",
       "_model_name": "TextStyleModel",
       "_view_count": null,
       "_view_module": "@jupyter-widgets/base",
       "_view_module_version": "2.0.0",
       "_view_name": "StyleView",
       "background": null,
       "description_width": "initial",
       "font_size": null,
       "text_color": null
      }
     },
     "fb359aafdc7a4d57a6bd9bef0b99713a": {
      "model_module": "@jupyter-widgets/base",
      "model_module_version": "2.0.0",
      "model_name": "LayoutModel",
      "state": {
       "_model_module": "@jupyter-widgets/base",
       "_model_module_version": "2.0.0",
       "_model_name": "LayoutModel",
       "_view_count": null,
       "_view_module": "@jupyter-widgets/base",
       "_view_module_version": "2.0.0",
       "_view_name": "LayoutView",
       "align_content": null,
       "align_items": null,
       "align_self": null,
       "border_bottom": null,
       "border_left": null,
       "border_right": null,
       "border_top": null,
       "bottom": null,
       "display": null,
       "flex": null,
       "flex_flow": null,
       "grid_area": null,
       "grid_auto_columns": null,
       "grid_auto_flow": null,
       "grid_auto_rows": null,
       "grid_column": null,
       "grid_gap": null,
       "grid_row": null,
       "grid_template_areas": null,
       "grid_template_columns": null,
       "grid_template_rows": null,
       "height": null,
       "justify_content": null,
       "justify_items": null,
       "left": null,
       "margin": null,
       "max_height": null,
       "max_width": null,
       "min_height": null,
       "min_width": null,
       "object_fit": null,
       "object_position": null,
       "order": null,
       "overflow": null,
       "padding": null,
       "right": null,
       "top": null,
       "visibility": null,
       "width": null
      }
     }
    },
    "version_major": 2,
    "version_minor": 0
   }
  }
 },
 "nbformat": 4,
 "nbformat_minor": 5
}
